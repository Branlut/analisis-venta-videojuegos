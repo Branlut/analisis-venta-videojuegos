{
 "cells": [
  {
   "cell_type": "markdown",
   "metadata": {},
   "source": [
    "# Análisis venta de juegos"
   ]
  },
  {
   "cell_type": "markdown",
   "metadata": {},
   "source": [
    "La tienda online ice la cual vende video juegos alrededor del mundo y tiene a su disposicion la informacion de la ventas que se han realizado desde 1980 hasta el 2016, no solo se cuenta con la venta de videosjuegos por region como tal (na,eu.jp y otros) si no que tambien cuentan con las plataformas en que salieron los juegos su genero, la clasificacion de la Junta de clasificación de software de entretenimiento (edad recomendada para jugar) y las reseñas de estos tanto de prensa especializada como de usuarios normales.\n",
    "\n",
    "Se nos encargo encontrar tendencias o patrones a la hora de comprar juegos si existen preferencias por alguna platforma, si se tiene preferencia por un genero es especial si la reseñas afectan las compras y si estos difieren de region en region. Todo esto para enfocarse en los juegos que seran mas rentables para el año 2017. "
   ]
  },
  {
   "cell_type": "markdown",
   "metadata": {},
   "source": [
    "## Preparación de la información general"
   ]
  },
  {
   "cell_type": "code",
   "execution_count": 1,
   "metadata": {},
   "outputs": [],
   "source": [
    "import pandas as pd\n",
    "import numpy as np\n",
    "import math as mt\n",
    "from matplotlib import pyplot as plt\n",
    "from scipy import stats as st\n",
    "import seaborn as sns"
   ]
  },
  {
   "cell_type": "code",
   "execution_count": 2,
   "metadata": {},
   "outputs": [],
   "source": [
    "df_games = pd.read_csv('/datasets/games.csv')"
   ]
  },
  {
   "cell_type": "code",
   "execution_count": 3,
   "metadata": {},
   "outputs": [
    {
     "name": "stdout",
     "output_type": "stream",
     "text": [
      "<class 'pandas.core.frame.DataFrame'>\n",
      "RangeIndex: 16715 entries, 0 to 16714\n",
      "Data columns (total 11 columns):\n",
      " #   Column           Non-Null Count  Dtype  \n",
      "---  ------           --------------  -----  \n",
      " 0   Name             16713 non-null  object \n",
      " 1   Platform         16715 non-null  object \n",
      " 2   Year_of_Release  16446 non-null  float64\n",
      " 3   Genre            16713 non-null  object \n",
      " 4   NA_sales         16715 non-null  float64\n",
      " 5   EU_sales         16715 non-null  float64\n",
      " 6   JP_sales         16715 non-null  float64\n",
      " 7   Other_sales      16715 non-null  float64\n",
      " 8   Critic_Score     8137 non-null   float64\n",
      " 9   User_Score       10014 non-null  object \n",
      " 10  Rating           9949 non-null   object \n",
      "dtypes: float64(6), object(5)\n",
      "memory usage: 1.4+ MB\n"
     ]
    }
   ],
   "source": [
    "df_games.info()\n"
   ]
  },
  {
   "cell_type": "code",
   "execution_count": 4,
   "metadata": {},
   "outputs": [
    {
     "name": "stdout",
     "output_type": "stream",
     "text": [
      "                       name platform  year_of_release         genre  na_sales  \\\n",
      "0                Wii Sports      Wii           2006.0        Sports     41.36   \n",
      "1         Super Mario Bros.      NES           1985.0      Platform     29.08   \n",
      "2            Mario Kart Wii      Wii           2008.0        Racing     15.68   \n",
      "3         Wii Sports Resort      Wii           2009.0        Sports     15.61   \n",
      "4  Pokemon Red/Pokemon Blue       GB           1996.0  Role-Playing     11.27   \n",
      "\n",
      "   eu_sales  jp_sales  other_sales  critic_score user_score rating  \n",
      "0     28.96      3.77         8.45          76.0          8      E  \n",
      "1      3.58      6.81         0.77           NaN        NaN    NaN  \n",
      "2     12.76      3.79         3.29          82.0        8.3      E  \n",
      "3     10.93      3.28         2.95          80.0          8      E  \n",
      "4      8.89     10.22         1.00           NaN        NaN    NaN  \n"
     ]
    }
   ],
   "source": [
    "df_games.columns = df_games.columns.str.lower()\n",
    "print(df_games.head())"
   ]
  },
  {
   "cell_type": "markdown",
   "metadata": {},
   "source": [
    "-El dataframe cuenta con 16715 entradas y con 11 columnas\n",
    "\n",
    "-Se puede apreciar tipos de datos mal asignados  como year_of_release como float y user_score como object\n",
    "\n",
    "-No todas la columnas cuentan con todos lo datos \n",
    "\n",
    "-Cambiar posteriormente las siglas tbd en user_score para solo dejar solo un tipo de dato en la columna\n",
    "\n",
    "-Los datos ausentes pueden deberse al año en que se lanzaron los juegos ya que hay juegos de 1980 por lo que pueden no haber resivido alguna reseña o evaluacion por las entendades pertinentes o porque el juego o mas bien su desarrolladora no preciso toda a informacion de este. "
   ]
  },
  {
   "cell_type": "markdown",
   "metadata": {},
   "source": [
    "# Preparar los datos"
   ]
  },
  {
   "cell_type": "markdown",
   "metadata": {},
   "source": [
    "## Tratar valores nulos"
   ]
  },
  {
   "cell_type": "code",
   "execution_count": 5,
   "metadata": {},
   "outputs": [
    {
     "name": "stdout",
     "output_type": "stream",
     "text": [
      "name                  2\n",
      "platform              0\n",
      "year_of_release     269\n",
      "genre                 2\n",
      "na_sales              0\n",
      "eu_sales              0\n",
      "jp_sales              0\n",
      "other_sales           0\n",
      "critic_score       8578\n",
      "user_score         6701\n",
      "rating             6766\n",
      "dtype: int64\n"
     ]
    }
   ],
   "source": [
    "print(df_games.isna().sum())\n"
   ]
  },
  {
   "cell_type": "markdown",
   "metadata": {},
   "source": [
    "-la mayor cantidad de valores nulos los poseen las columnas critic_score, user_score y rating\n",
    "\n",
    "-Las columnas name y genre poseen el minimo \n",
    "\n",
    "-La columna year_of_release cuenta con datos nulos pero no tan significativos como los mencionados primero"
   ]
  },
  {
   "cell_type": "markdown",
   "metadata": {},
   "source": [
    "### columna nombre"
   ]
  },
  {
   "cell_type": "code",
   "execution_count": 6,
   "metadata": {},
   "outputs": [
    {
     "name": "stdout",
     "output_type": "stream",
     "text": [
      "      name platform  year_of_release genre  na_sales  eu_sales  jp_sales  \\\n",
      "659    NaN      GEN           1993.0   NaN      1.78      0.53      0.00   \n",
      "14244  NaN      GEN           1993.0   NaN      0.00      0.00      0.03   \n",
      "\n",
      "       other_sales  critic_score user_score rating  \n",
      "659           0.08           NaN        NaN    NaN  \n",
      "14244         0.00           NaN        NaN    NaN  \n",
      "      name platform  year_of_release genre  na_sales  eu_sales  jp_sales  \\\n",
      "659    NaN      GEN           1993.0   NaN      1.78      0.53      0.00   \n",
      "14244  NaN      GEN           1993.0   NaN      0.00      0.00      0.03   \n",
      "\n",
      "       other_sales  critic_score user_score rating  \n",
      "659           0.08           NaN        NaN    NaN  \n",
      "14244         0.00           NaN        NaN    NaN  \n"
     ]
    }
   ],
   "source": [
    "print(df_games[df_games['name'].isna()])\n",
    "print(df_games[df_games['genre'].isna()])"
   ]
  },
  {
   "cell_type": "code",
   "execution_count": 7,
   "metadata": {},
   "outputs": [
    {
     "name": "stdout",
     "output_type": "stream",
     "text": [
      "Empty DataFrame\n",
      "Columns: [name, platform, year_of_release, genre, na_sales, eu_sales, jp_sales, other_sales, critic_score, user_score, rating]\n",
      "Index: []\n"
     ]
    }
   ],
   "source": [
    "df_games['name'] = df_games['name'].fillna('ngi')\n",
    "print(df_games[df_games['name'].isna()])"
   ]
  },
  {
   "cell_type": "code",
   "execution_count": 8,
   "metadata": {},
   "outputs": [
    {
     "name": "stdout",
     "output_type": "stream",
     "text": [
      "                       name platform  year_of_release         genre  na_sales  \\\n",
      "0                wii sports      Wii           2006.0        Sports     41.36   \n",
      "1         super mario bros.      NES           1985.0      Platform     29.08   \n",
      "2            mario kart wii      Wii           2008.0        Racing     15.68   \n",
      "3         wii sports resort      Wii           2009.0        Sports     15.61   \n",
      "4  pokemon red/pokemon blue       GB           1996.0  Role-Playing     11.27   \n",
      "\n",
      "   eu_sales  jp_sales  other_sales  critic_score user_score rating  \n",
      "0     28.96      3.77         8.45          76.0          8      E  \n",
      "1      3.58      6.81         0.77           NaN        NaN    NaN  \n",
      "2     12.76      3.79         3.29          82.0        8.3      E  \n",
      "3     10.93      3.28         2.95          80.0          8      E  \n",
      "4      8.89     10.22         1.00           NaN        NaN    NaN  \n"
     ]
    }
   ],
   "source": [
    "df_games['name'] = df_games['name'].str.lower()\n",
    "print(df_games.head())"
   ]
  },
  {
   "cell_type": "markdown",
   "metadata": {},
   "source": [
    "-Existian 2 nombre de juegos nulos pero estos no se pueden eleminar ya que cuentan con ventas por lo cual los cambie por ngi (no game information)\n",
    "\n",
    "-Deje los nombres en minusculas para luego realizar una busqueda de duplicados mejor"
   ]
  },
  {
   "cell_type": "markdown",
   "metadata": {},
   "source": [
    "### columna genre"
   ]
  },
  {
   "cell_type": "code",
   "execution_count": 9,
   "metadata": {},
   "outputs": [
    {
     "name": "stdout",
     "output_type": "stream",
     "text": [
      "      name platform  year_of_release genre  na_sales  eu_sales  jp_sales  \\\n",
      "659    ngi      GEN           1993.0   NaN      1.78      0.53      0.00   \n",
      "14244  ngi      GEN           1993.0   NaN      0.00      0.00      0.03   \n",
      "\n",
      "       other_sales  critic_score user_score rating  \n",
      "659           0.08           NaN        NaN    NaN  \n",
      "14244         0.00           NaN        NaN    NaN  \n"
     ]
    }
   ],
   "source": [
    "print(df_games[df_games['genre'].isna()])"
   ]
  },
  {
   "cell_type": "code",
   "execution_count": 10,
   "metadata": {},
   "outputs": [
    {
     "name": "stdout",
     "output_type": "stream",
     "text": [
      "['Sports' 'Platform' 'Racing' 'Role-Playing' 'Puzzle' 'Misc' 'Shooter'\n",
      " 'Simulation' 'Action' 'Fighting' 'Adventure' 'Strategy' nan]\n"
     ]
    }
   ],
   "source": [
    "print(df_games['genre'].unique())"
   ]
  },
  {
   "cell_type": "code",
   "execution_count": 11,
   "metadata": {},
   "outputs": [
    {
     "name": "stdout",
     "output_type": "stream",
     "text": [
      "Empty DataFrame\n",
      "Columns: [name, platform, year_of_release, genre, na_sales, eu_sales, jp_sales, other_sales, critic_score, user_score, rating]\n",
      "Index: []\n",
      "['sports' 'platform' 'racing' 'role-playing' 'puzzle' 'misc' 'shooter'\n",
      " 'simulation' 'action' 'fighting' 'adventure' 'strategy'\n",
      " 'unassigned-genre']\n"
     ]
    }
   ],
   "source": [
    "df_games['genre'] = df_games['genre'].str.lower()\n",
    "df_games['genre'] = df_games['genre'].fillna('unassigned-genre')\n",
    "print(df_games[df_games['genre'].isna()])\n",
    "print(df_games['genre'].unique())"
   ]
  },
  {
   "cell_type": "markdown",
   "metadata": {},
   "source": [
    "-Se puede apreciar que los 2 juegos que no tenian un genero eran los mismos que no contaban con un nombre\n",
    "\n",
    "-No se elimanor debido a estos juegos presentan ventas\n",
    "\n",
    "-se cambio estos a generos a unnasigned-genre \n",
    "\n",
    "-Se convertio todos los nombres de de los generos a minusculas para tener mas limpios los datos"
   ]
  },
  {
   "cell_type": "markdown",
   "metadata": {},
   "source": [
    "### columna year of release"
   ]
  },
  {
   "cell_type": "code",
   "execution_count": 12,
   "metadata": {},
   "outputs": [
    {
     "name": "stdout",
     "output_type": "stream",
     "text": [
      "269\n",
      "                                    name platform  year_of_release  \\\n",
      "183                      madden nfl 2004      PS2              NaN   \n",
      "377                     fifa soccer 2004      PS2              NaN   \n",
      "456           lego batman: the videogame      Wii              NaN   \n",
      "475           wwe smackdown vs. raw 2006      PS2              NaN   \n",
      "609                       space invaders     2600              NaN   \n",
      "...                                  ...      ...              ...   \n",
      "16373  pdc world championship darts 2008      PSP              NaN   \n",
      "16405                      freaky flyers       GC              NaN   \n",
      "16448                          inversion       PC              NaN   \n",
      "16458        hakuouki: shinsengumi kitan      PS3              NaN   \n",
      "16522                       virtua quest       GC              NaN   \n",
      "\n",
      "              genre  na_sales  eu_sales  jp_sales  other_sales  critic_score  \\\n",
      "183          sports      4.26      0.26      0.01         0.71          94.0   \n",
      "377          sports      0.59      2.36      0.04         0.51          84.0   \n",
      "456          action      1.80      0.97      0.00         0.29          74.0   \n",
      "475        fighting      1.57      1.02      0.00         0.41           NaN   \n",
      "609         shooter      2.36      0.14      0.00         0.03           NaN   \n",
      "...             ...       ...       ...       ...          ...           ...   \n",
      "16373        sports      0.01      0.00      0.00         0.00          43.0   \n",
      "16405        racing      0.01      0.00      0.00         0.00          69.0   \n",
      "16448       shooter      0.01      0.00      0.00         0.00          59.0   \n",
      "16458     adventure      0.01      0.00      0.00         0.00           NaN   \n",
      "16522  role-playing      0.01      0.00      0.00         0.00          55.0   \n",
      "\n",
      "      user_score rating  \n",
      "183          8.5      E  \n",
      "377          6.4      E  \n",
      "456          7.9   E10+  \n",
      "475          NaN    NaN  \n",
      "609          NaN    NaN  \n",
      "...          ...    ...  \n",
      "16373        tbd   E10+  \n",
      "16405        6.5      T  \n",
      "16448        6.7      M  \n",
      "16458        NaN    NaN  \n",
      "16522        5.5      T  \n",
      "\n",
      "[269 rows x 11 columns]\n"
     ]
    }
   ],
   "source": [
    "print(df_games['year_of_release'].isna().sum())\n",
    "print(df_games[df_games['year_of_release'].isna()])"
   ]
  },
  {
   "cell_type": "code",
   "execution_count": 13,
   "metadata": {},
   "outputs": [
    {
     "name": "stdout",
     "output_type": "stream",
     "text": [
      "2006.0\n",
      "2007.0\n"
     ]
    }
   ],
   "source": [
    "print(df_games['year_of_release'].mean().round() )\n",
    "print(df_games['year_of_release'].median().round() )"
   ]
  },
  {
   "cell_type": "code",
   "execution_count": 14,
   "metadata": {},
   "outputs": [
    {
     "name": "stdout",
     "output_type": "stream",
     "text": [
      "0\n",
      "Empty DataFrame\n",
      "Columns: [name, platform, year_of_release, genre, na_sales, eu_sales, jp_sales, other_sales, critic_score, user_score, rating]\n",
      "Index: []\n"
     ]
    }
   ],
   "source": [
    "df_games['year_of_release'] = df_games['year_of_release'].fillna(2007)\n",
    "df_games['year_of_release'] = df_games['year_of_release'].astype(int)\n",
    "print(df_games['year_of_release'].isna().sum())\n",
    "print(df_games[df_games['year_of_release'].isna()])\n"
   ]
  },
  {
   "cell_type": "code",
   "execution_count": 15,
   "metadata": {},
   "outputs": [
    {
     "name": "stdout",
     "output_type": "stream",
     "text": [
      "                       name platform  year_of_release         genre  na_sales  \\\n",
      "0                wii sports      Wii             2006        sports     41.36   \n",
      "1         super mario bros.      NES             1985      platform     29.08   \n",
      "2            mario kart wii      Wii             2008        racing     15.68   \n",
      "3         wii sports resort      Wii             2009        sports     15.61   \n",
      "4  pokemon red/pokemon blue       GB             1996  role-playing     11.27   \n",
      "\n",
      "   eu_sales  jp_sales  other_sales  critic_score user_score rating  \n",
      "0     28.96      3.77         8.45          76.0          8      E  \n",
      "1      3.58      6.81         0.77           NaN        NaN    NaN  \n",
      "2     12.76      3.79         3.29          82.0        8.3      E  \n",
      "3     10.93      3.28         2.95          80.0          8      E  \n",
      "4      8.89     10.22         1.00           NaN        NaN    NaN  \n",
      "<class 'pandas.core.frame.DataFrame'>\n",
      "RangeIndex: 16715 entries, 0 to 16714\n",
      "Data columns (total 11 columns):\n",
      " #   Column           Non-Null Count  Dtype  \n",
      "---  ------           --------------  -----  \n",
      " 0   name             16715 non-null  object \n",
      " 1   platform         16715 non-null  object \n",
      " 2   year_of_release  16715 non-null  int64  \n",
      " 3   genre            16715 non-null  object \n",
      " 4   na_sales         16715 non-null  float64\n",
      " 5   eu_sales         16715 non-null  float64\n",
      " 6   jp_sales         16715 non-null  float64\n",
      " 7   other_sales      16715 non-null  float64\n",
      " 8   critic_score     8137 non-null   float64\n",
      " 9   user_score       10014 non-null  object \n",
      " 10  rating           9949 non-null   object \n",
      "dtypes: float64(5), int64(1), object(5)\n",
      "memory usage: 1.4+ MB\n"
     ]
    }
   ],
   "source": [
    "print(df_games.head())\n",
    "df_games.info()"
   ]
  },
  {
   "cell_type": "markdown",
   "metadata": {},
   "source": [
    "-Los datos nulos de la columna year of release se cambiaron por la mediana de los datos \n",
    "\n",
    "-El cambio anterior se realizo para comvertir el tipo de dato a int ya que estaba en float y esto no tiene sentido ya que los años son solo numeros enteros"
   ]
  },
  {
   "cell_type": "markdown",
   "metadata": {},
   "source": [
    "### columna critic score"
   ]
  },
  {
   "cell_type": "code",
   "execution_count": 16,
   "metadata": {},
   "outputs": [
    {
     "name": "stdout",
     "output_type": "stream",
     "text": [
      "8578\n"
     ]
    }
   ],
   "source": [
    "print(df_games['critic_score'].isna().sum())\n"
   ]
  },
  {
   "cell_type": "code",
   "execution_count": 17,
   "metadata": {},
   "outputs": [
    {
     "name": "stdout",
     "output_type": "stream",
     "text": [
      "[76. nan 82. 80. 89. 58. 87. 91. 61. 97. 95. 77. 88. 83. 94. 93. 85. 86.\n",
      " 98. 96. 90. 84. 73. 74. 78. 92. 71. 72. 68. 62. 49. 67. 81. 66. 56. 79.\n",
      " 70. 59. 64. 75. 60. 63. 69. 50. 25. 42. 44. 55. 48. 57. 29. 47. 65. 54.\n",
      " 20. 53. 37. 38. 33. 52. 30. 32. 43. 45. 51. 40. 46. 39. 34. 35. 41. 36.\n",
      " 28. 31. 27. 26. 19. 23. 24. 21. 17. 22. 13.]\n",
      "13.0\n",
      "98.0\n",
      "69.0\n",
      "71.0\n"
     ]
    }
   ],
   "source": [
    "print(df_games['critic_score'].unique())\n",
    "print(df_games['critic_score'].min())\n",
    "print(df_games['critic_score'].max())\n",
    "print(df_games['critic_score'].mean().round())\n",
    "print(df_games['critic_score'].median())\n"
   ]
  },
  {
   "cell_type": "code",
   "execution_count": 18,
   "metadata": {},
   "outputs": [],
   "source": [
    "df_games['critic_score'] = df_games['critic_score'].fillna(71)\n",
    "df_games['critic_score'] = df_games['critic_score'].astype(int)"
   ]
  },
  {
   "cell_type": "code",
   "execution_count": 19,
   "metadata": {},
   "outputs": [
    {
     "name": "stdout",
     "output_type": "stream",
     "text": [
      "0\n",
      "[76 71 82 80 89 58 87 91 61 97 95 77 88 83 94 93 85 86 98 96 90 84 73 74\n",
      " 78 92 72 68 62 49 67 81 66 56 79 70 59 64 75 60 63 69 50 25 42 44 55 48\n",
      " 57 29 47 65 54 20 53 37 38 33 52 30 32 43 45 51 40 46 39 34 35 41 36 28\n",
      " 31 27 26 19 23 24 21 17 22 13]\n"
     ]
    }
   ],
   "source": [
    "print(df_games['critic_score'].isna().sum())\n",
    "print(df_games['critic_score'].unique())"
   ]
  },
  {
   "cell_type": "markdown",
   "metadata": {},
   "source": [
    "-Por lo que se puede observar el critic score es un valor del 1 al 100\n",
    "\n",
    "-Los datos nulos se reemplazoron por la mediana de los datos \n",
    "\n",
    "-Se convertio el tipo de dato de float a int ya que se puede ver la puntuacion solo se realiza en numeros enteros"
   ]
  },
  {
   "cell_type": "markdown",
   "metadata": {},
   "source": [
    "### columna user score"
   ]
  },
  {
   "cell_type": "code",
   "execution_count": 20,
   "metadata": {},
   "outputs": [
    {
     "name": "stdout",
     "output_type": "stream",
     "text": [
      "6701\n"
     ]
    }
   ],
   "source": [
    "print(df_games['user_score'].isna().sum())"
   ]
  },
  {
   "cell_type": "code",
   "execution_count": 21,
   "metadata": {},
   "outputs": [
    {
     "name": "stdout",
     "output_type": "stream",
     "text": [
      "['8' nan '8.3' '8.5' '6.6' '8.4' '8.6' '7.7' '6.3' '7.4' '8.2' '9' '7.9'\n",
      " '8.1' '8.7' '7.1' '3.4' '5.3' '4.8' '3.2' '8.9' '6.4' '7.8' '7.5' '2.6'\n",
      " '7.2' '9.2' '7' '7.3' '4.3' '7.6' '5.7' '5' '9.1' '6.5' 'tbd' '8.8' '6.9'\n",
      " '9.4' '6.8' '6.1' '6.7' '5.4' '4' '4.9' '4.5' '9.3' '6.2' '4.2' '6' '3.7'\n",
      " '4.1' '5.8' '5.6' '5.5' '4.4' '4.6' '5.9' '3.9' '3.1' '2.9' '5.2' '3.3'\n",
      " '4.7' '5.1' '3.5' '2.5' '1.9' '3' '2.7' '2.2' '2' '9.5' '2.1' '3.6' '2.8'\n",
      " '1.8' '3.8' '0' '1.6' '9.6' '2.4' '1.7' '1.1' '0.3' '1.5' '0.7' '1.2'\n",
      " '2.3' '0.5' '1.3' '0.2' '0.6' '1.4' '0.9' '1' '9.7']\n"
     ]
    }
   ],
   "source": [
    "print(df_games['user_score'].unique())"
   ]
  },
  {
   "cell_type": "code",
   "execution_count": 22,
   "metadata": {},
   "outputs": [
    {
     "name": "stdout",
     "output_type": "stream",
     "text": [
      "5.40034951068504\n",
      "6.9\n"
     ]
    }
   ],
   "source": [
    "df_games['user_score'] = df_games['user_score'].replace('tbd',0.0)\n",
    "df_games['user_score'] = df_games['user_score'].astype(float)\n",
    "\n",
    "print(df_games['user_score'].mean())\n",
    "print(df_games['user_score'].median())"
   ]
  },
  {
   "cell_type": "code",
   "execution_count": 23,
   "metadata": {},
   "outputs": [
    {
     "name": "stdout",
     "output_type": "stream",
     "text": [
      "0\n",
      "[8.  6.9 8.3 8.5 6.6 8.4 8.6 7.7 6.3 7.4 8.2 9.  7.9 8.1 8.7 7.1 3.4 5.3\n",
      " 4.8 3.2 8.9 6.4 7.8 7.5 2.6 7.2 9.2 7.  7.3 4.3 7.6 5.7 5.  9.1 6.5 0.\n",
      " 8.8 9.4 6.8 6.1 6.7 5.4 4.  4.9 4.5 9.3 6.2 4.2 6.  3.7 4.1 5.8 5.6 5.5\n",
      " 4.4 4.6 5.9 3.9 3.1 2.9 5.2 3.3 4.7 5.1 3.5 2.5 1.9 3.  2.7 2.2 2.  9.5\n",
      " 2.1 3.6 2.8 1.8 3.8 1.6 9.6 2.4 1.7 1.1 0.3 1.5 0.7 1.2 2.3 0.5 1.3 0.2\n",
      " 0.6 1.4 0.9 1.  9.7]\n"
     ]
    }
   ],
   "source": [
    "df_games['user_score'] = df_games['user_score'].fillna(6.9)\n",
    "print(df_games['user_score'].isna().sum())\n",
    "print(df_games['user_score'].unique())"
   ]
  },
  {
   "cell_type": "markdown",
   "metadata": {},
   "source": [
    "-Se puede apreciar que el user score va de 1.0 hasta el 10.0\n",
    "\n",
    "-Los datos con tbd se les asigno el 0.0 ya que todovia no se reciben un score\n",
    "\n",
    "-Al cambiar la designacion tbd se convertio el tipo de dato de object a float \n",
    "\n",
    "-Se decidio rellenar los datos nulos con la mediana de los datos"
   ]
  },
  {
   "cell_type": "markdown",
   "metadata": {},
   "source": [
    "### columna rating"
   ]
  },
  {
   "cell_type": "code",
   "execution_count": 24,
   "metadata": {},
   "outputs": [
    {
     "name": "stdout",
     "output_type": "stream",
     "text": [
      "6766\n"
     ]
    }
   ],
   "source": [
    "print(df_games['rating'].isna().sum())"
   ]
  },
  {
   "cell_type": "code",
   "execution_count": 25,
   "metadata": {},
   "outputs": [
    {
     "name": "stdout",
     "output_type": "stream",
     "text": [
      "['E' nan 'M' 'T' 'E10+' 'K-A' 'AO' 'EC' 'RP']\n"
     ]
    }
   ],
   "source": [
    "print(df_games['rating'].unique())"
   ]
  },
  {
   "cell_type": "code",
   "execution_count": 26,
   "metadata": {},
   "outputs": [
    {
     "name": "stdout",
     "output_type": "stream",
     "text": [
      "0\n",
      "['E' 'RNA' 'M' 'T' 'E10+' 'K-A' 'AO' 'EC' 'RP']\n"
     ]
    }
   ],
   "source": [
    "df_games['rating'] = df_games['rating'].fillna('RNA')\n",
    "\n",
    "print(df_games['rating'].isna().sum())\n",
    "print(df_games['rating'].unique())"
   ]
  },
  {
   "cell_type": "markdown",
   "metadata": {},
   "source": [
    "-Los datos nulos se rellenaron con la sigla RNA (rating no asignado ) "
   ]
  },
  {
   "cell_type": "markdown",
   "metadata": {},
   "source": [
    "## Duplicados"
   ]
  },
  {
   "cell_type": "code",
   "execution_count": 27,
   "metadata": {},
   "outputs": [
    {
     "name": "stdout",
     "output_type": "stream",
     "text": [
      "0\n"
     ]
    }
   ],
   "source": [
    "print(df_games.duplicated().sum())"
   ]
  },
  {
   "cell_type": "markdown",
   "metadata": {},
   "source": [
    "### columna name"
   ]
  },
  {
   "cell_type": "code",
   "execution_count": 28,
   "metadata": {},
   "outputs": [
    {
     "name": "stdout",
     "output_type": "stream",
     "text": [
      "5155\n"
     ]
    }
   ],
   "source": [
    "print(df_games['name'].duplicated().sum())"
   ]
  },
  {
   "cell_type": "code",
   "execution_count": 29,
   "metadata": {},
   "outputs": [
    {
     "name": "stdout",
     "output_type": "stream",
     "text": [
      "                                                   name platform  \\\n",
      "23                                   grand theft auto v     X360   \n",
      "35                           call of duty: black ops ii     X360   \n",
      "37                       call of duty: modern warfare 3      PS3   \n",
      "41                              call of duty: black ops      PS3   \n",
      "42                                   grand theft auto v      PS4   \n",
      "...                                                 ...      ...   \n",
      "16706                     men in black ii: alien escape       GC   \n",
      "16709  score international baja 1000: the official game      PS2   \n",
      "16710                     samurai warriors: sanada maru      PS3   \n",
      "16713                                  spirits & spells      GBA   \n",
      "16714                               winning post 8 2016      PSV   \n",
      "\n",
      "       year_of_release       genre  na_sales  eu_sales  jp_sales  other_sales  \\\n",
      "23                2013      action      9.66      5.14      0.06         1.41   \n",
      "35                2012     shooter      8.25      4.24      0.07         1.12   \n",
      "37                2011     shooter      5.54      5.73      0.49         1.57   \n",
      "41                2010     shooter      5.99      4.37      0.48         1.79   \n",
      "42                2014      action      3.96      6.31      0.38         1.97   \n",
      "...                ...         ...       ...       ...       ...          ...   \n",
      "16706             2003     shooter      0.01      0.00      0.00         0.00   \n",
      "16709             2008      racing      0.00      0.00      0.00         0.00   \n",
      "16710             2016      action      0.00      0.00      0.01         0.00   \n",
      "16713             2003    platform      0.01      0.00      0.00         0.00   \n",
      "16714             2016  simulation      0.00      0.00      0.01         0.00   \n",
      "\n",
      "       critic_score  user_score rating  \n",
      "23               97         8.1      M  \n",
      "35               83         4.8      M  \n",
      "37               88         3.2      M  \n",
      "41               88         6.4      M  \n",
      "42               97         8.3      M  \n",
      "...             ...         ...    ...  \n",
      "16706            71         0.0      T  \n",
      "16709            71         6.9    RNA  \n",
      "16710            71         6.9    RNA  \n",
      "16713            71         6.9    RNA  \n",
      "16714            71         6.9    RNA  \n",
      "\n",
      "[5155 rows x 11 columns]\n"
     ]
    }
   ],
   "source": [
    "print(df_games[df_games['name'].duplicated()])"
   ]
  },
  {
   "cell_type": "code",
   "execution_count": 30,
   "metadata": {},
   "outputs": [
    {
     "name": "stdout",
     "output_type": "stream",
     "text": [
      "                            name platform  year_of_release    genre  na_sales  \\\n",
      "34    call of duty: black ops ii      PS3             2012  shooter      4.99   \n",
      "35    call of duty: black ops ii     X360             2012  shooter      8.25   \n",
      "1227  call of duty: black ops ii       PC             2012  shooter      0.64   \n",
      "4706  call of duty: black ops ii     WiiU             2012  shooter      0.20   \n",
      "\n",
      "      eu_sales  jp_sales  other_sales  critic_score  user_score rating  \n",
      "34        5.73      0.65         2.42            83         5.3      M  \n",
      "35        4.24      0.07         1.12            83         4.8      M  \n",
      "1227      0.69      0.00         0.19            74         4.2      M  \n",
      "4706      0.18      0.00         0.03            81         6.9      M  \n"
     ]
    }
   ],
   "source": [
    "print(df_games[df_games['name'] == 'call of duty: black ops ii'])"
   ]
  },
  {
   "cell_type": "markdown",
   "metadata": {},
   "source": [
    "-Como se puede apreciar no se encuentran filas totalmente duplicadas \n",
    "-En este caso en concreto no tiene mucho peso si se encuentran duplicados en los nombres de los juegos ya que en el dataset como se puede ver cuenta con la salida de un mismo juego para diferentes plataformas que algunos casos puede ser en un mismo año o en otro ya que la salida de un juego en una plataforma esta totalmente en desicion de los dueños de esta y se realiza en forma de acuerdo con la empresa que publica el juego"
   ]
  },
  {
   "cell_type": "markdown",
   "metadata": {},
   "source": [
    "## Calculo de ventas totales"
   ]
  },
  {
   "cell_type": "code",
   "execution_count": 31,
   "metadata": {},
   "outputs": [
    {
     "name": "stdout",
     "output_type": "stream",
     "text": [
      "                       name platform  year_of_release         genre  na_sales  \\\n",
      "0                wii sports      Wii             2006        sports     41.36   \n",
      "1         super mario bros.      NES             1985      platform     29.08   \n",
      "2            mario kart wii      Wii             2008        racing     15.68   \n",
      "3         wii sports resort      Wii             2009        sports     15.61   \n",
      "4  pokemon red/pokemon blue       GB             1996  role-playing     11.27   \n",
      "\n",
      "   eu_sales  jp_sales  other_sales  critic_score  user_score rating  \\\n",
      "0     28.96      3.77         8.45            76         8.0      E   \n",
      "1      3.58      6.81         0.77            71         6.9    RNA   \n",
      "2     12.76      3.79         3.29            82         8.3      E   \n",
      "3     10.93      3.28         2.95            80         8.0      E   \n",
      "4      8.89     10.22         1.00            71         6.9    RNA   \n",
      "\n",
      "   total_sales  \n",
      "0        82.54  \n",
      "1        40.24  \n",
      "2        35.52  \n",
      "3        32.77  \n",
      "4        31.38  \n"
     ]
    }
   ],
   "source": [
    "df_games['total_sales'] = df_games['na_sales'] + df_games['eu_sales'] + df_games['jp_sales'] + df_games['other_sales']\n",
    "print(df_games.head())\n"
   ]
  },
  {
   "cell_type": "markdown",
   "metadata": {},
   "source": [
    "# Analisis de datos"
   ]
  },
  {
   "cell_type": "markdown",
   "metadata": {},
   "source": [
    "## Cantidad de juegos lanzados por año"
   ]
  },
  {
   "cell_type": "code",
   "execution_count": 32,
   "metadata": {},
   "outputs": [
    {
     "name": "stdout",
     "output_type": "stream",
     "text": [
      "    year_of_release  name\n",
      "0              1980     9\n",
      "1              1981    46\n",
      "2              1982    36\n",
      "3              1983    17\n",
      "4              1984    14\n",
      "5              1985    14\n",
      "6              1986    21\n",
      "7              1987    16\n",
      "8              1988    15\n",
      "9              1989    17\n",
      "10             1990    16\n",
      "11             1991    41\n",
      "12             1992    43\n",
      "13             1993    62\n",
      "14             1994   121\n",
      "15             1995   219\n",
      "16             1996   263\n",
      "17             1997   289\n",
      "18             1998   379\n",
      "19             1999   338\n",
      "20             2000   350\n",
      "21             2001   482\n",
      "22             2002   829\n",
      "23             2003   775\n",
      "24             2004   762\n",
      "25             2005   939\n",
      "26             2006  1006\n",
      "27             2007  1466\n",
      "28             2008  1427\n",
      "29             2009  1426\n",
      "30             2010  1255\n",
      "31             2011  1136\n",
      "32             2012   653\n",
      "33             2013   544\n",
      "34             2014   581\n",
      "35             2015   606\n",
      "36             2016   502\n"
     ]
    }
   ],
   "source": [
    "pivot_juegos = df_games.pivot_table(index='year_of_release',values='name', aggfunc='count').reset_index() \n",
    "\n",
    "print(pivot_juegos)"
   ]
  },
  {
   "cell_type": "code",
   "execution_count": 33,
   "metadata": {},
   "outputs": [
    {
     "name": "stdout",
     "output_type": "stream",
     "text": [
      "          name\n",
      "platform      \n",
      "2600       133\n",
      "3DO          3\n",
      "3DS        520\n",
      "DC          52\n",
      "DS        2151\n",
      "GB          98\n",
      "GBA        822\n",
      "GC         556\n",
      "GEN         29\n",
      "GG           1\n",
      "N64        319\n",
      "NES         98\n",
      "NG          12\n",
      "PC         974\n",
      "PCFX         1\n",
      "PS        1197\n",
      "PS2       2161\n",
      "PS3       1331\n",
      "PS4        392\n",
      "PSP       1209\n",
      "PSV        430\n",
      "SAT        173\n",
      "SCD          6\n",
      "SNES       239\n",
      "TG16         2\n",
      "WS           6\n",
      "Wii       1320\n",
      "WiiU       147\n",
      "X360      1262\n",
      "XB         824\n",
      "XOne       247\n"
     ]
    }
   ],
   "source": [
    "cantidad_juegos_plataforma = df_games.pivot_table(index='platform',values='name',aggfunc='count')\n",
    "\n",
    "print(cantidad_juegos_plataforma)"
   ]
  },
  {
   "cell_type": "code",
   "execution_count": 33,
   "metadata": {},
   "outputs": [
    {
     "data": {
      "image/png": "[encoded data removed]",
      "text/plain": [
       "<Figure size 640x480 with 1 Axes>"
      ]
     },
     "metadata": {},
     "output_type": "display_data"
    }
   ],
   "source": [
    "pivot_juegos.plot(kind='bar',x='year_of_release',y='name',legend=False,xlabel='año de lanzamiento',ylabel='Cantidad de juegos',title='Cantidad de Juegos lanzados por año')\n",
    "plt.show()"
   ]
  },
  {
   "cell_type": "markdown",
   "metadata": {},
   "source": [
    "-Los inicios del registro que es de 1980 se puede ver que existian pocos lanzamientos por año\n",
    "\n",
    "-Apartir de los 2000 comenzaron a salir mas juegos por año posiblemente debido al surgimiento de nuevas plataformas"
   ]
  },
  {
   "cell_type": "markdown",
   "metadata": {},
   "source": [
    "## ventas por plataforma"
   ]
  },
  {
   "cell_type": "markdown",
   "metadata": {},
   "source": [
    "se tomara en encuenta los datos a partir del año 2012 para los siguientes analisis para poder realizar una proyeccion mas acertada"
   ]
  },
  {
   "cell_type": "code",
   "execution_count": 34,
   "metadata": {},
   "outputs": [
    {
     "name": "stdout",
     "output_type": "stream",
     "text": [
      "                                name platform  year_of_release         genre  \\\n",
      "16                grand theft auto v      PS3             2013        action   \n",
      "23                grand theft auto v     X360             2013        action   \n",
      "31         call of duty: black ops 3      PS4             2015       shooter   \n",
      "33               pokemon x/pokemon y      3DS             2013  role-playing   \n",
      "34        call of duty: black ops ii      PS3             2012       shooter   \n",
      "...                              ...      ...              ...           ...   \n",
      "16703               strawberry nauts      PSV             2016     adventure   \n",
      "16707               aiyoku no eustia      PSV             2014          misc   \n",
      "16710  samurai warriors: sanada maru      PS3             2016        action   \n",
      "16712        haitaka no psychedelica      PSV             2016     adventure   \n",
      "16714            winning post 8 2016      PSV             2016    simulation   \n",
      "\n",
      "       na_sales  eu_sales  jp_sales  other_sales  critic_score  user_score  \\\n",
      "16         7.02      9.09      0.98         3.96            97         8.2   \n",
      "23         9.66      5.14      0.06         1.41            97         8.1   \n",
      "31         6.03      5.86      0.36         2.38            71         6.9   \n",
      "33         5.28      4.19      4.35         0.78            71         6.9   \n",
      "34         4.99      5.73      0.65         2.42            83         5.3   \n",
      "...         ...       ...       ...          ...           ...         ...   \n",
      "16703      0.00      0.00      0.01         0.00            71         6.9   \n",
      "16707      0.00      0.00      0.01         0.00            71         6.9   \n",
      "16710      0.00      0.00      0.01         0.00            71         6.9   \n",
      "16712      0.00      0.00      0.01         0.00            71         6.9   \n",
      "16714      0.00      0.00      0.01         0.00            71         6.9   \n",
      "\n",
      "      rating  total_sales  \n",
      "16         M        21.05  \n",
      "23         M        16.27  \n",
      "31       RNA        14.63  \n",
      "33       RNA        14.60  \n",
      "34         M        13.79  \n",
      "...      ...          ...  \n",
      "16703    RNA         0.01  \n",
      "16707    RNA         0.01  \n",
      "16710    RNA         0.01  \n",
      "16712    RNA         0.01  \n",
      "16714    RNA         0.01  \n",
      "\n",
      "[2886 rows x 12 columns]\n"
     ]
    }
   ],
   "source": [
    "df_games_relevantes = df_games[df_games['year_of_release'] >= 2012] \n",
    "\n",
    "print(df_games_relevantes)"
   ]
  },
  {
   "cell_type": "code",
   "execution_count": 35,
   "metadata": {},
   "outputs": [
    {
     "name": "stdout",
     "output_type": "stream",
     "text": [
      "          total_sales\n",
      "platform             \n",
      "3DS            194.61\n",
      "DS              12.55\n",
      "PC              62.65\n",
      "PS3            288.79\n",
      "PS4            314.14\n",
      "PSP             11.19\n",
      "PSV             49.18\n",
      "Wii             35.37\n",
      "WiiU            82.19\n",
      "X360           236.54\n",
      "XOne           159.32\n"
     ]
    }
   ],
   "source": [
    "pivot_plataformas = pd.pivot_table(df_games_relevantes,index='platform',values='total_sales', aggfunc={'total_sales':'sum'})\n",
    "\n",
    "#pivot_plataformas.reset_index(inplace=True)\n",
    "print(pivot_plataformas)\n",
    "#print(df_games['platform'].value_counts())"
   ]
  },
  {
   "cell_type": "code",
   "execution_count": 36,
   "metadata": {},
   "outputs": [
    {
     "name": "stdout",
     "output_type": "stream",
     "text": [
      "          total_sales\n",
      "platform             \n",
      "PS4            314.14\n",
      "PS3            288.79\n",
      "X360           236.54\n",
      "3DS            194.61\n",
      "XOne           159.32\n"
     ]
    }
   ],
   "source": [
    "filtro_plataformas = pivot_plataformas.sort_values(by='total_sales',ascending=False)\n",
    "mejores_plataformas = filtro_plataformas.head()\n",
    "print(mejores_plataformas)"
   ]
  },
  {
   "cell_type": "code",
   "execution_count": 37,
   "metadata": {},
   "outputs": [
    {
     "name": "stdout",
     "output_type": "stream",
     "text": [
      "platform           3DS     DS     PC     PS3     PS4   PSP    PSV    Wii  \\\n",
      "year_of_release                                                            \n",
      "2012             51.36  11.01  23.22  107.36    0.00  7.69  16.19  21.71   \n",
      "2013             56.57   1.54  12.38  113.25   25.99  3.14  10.59   8.59   \n",
      "2014             43.76   0.00  13.28   47.76  100.00  0.24  11.90   3.75   \n",
      "2015             27.78   0.00   8.52   16.82  118.90  0.12   6.25   1.14   \n",
      "2016             15.14   0.00   5.25    3.60   69.25  0.00   4.25   0.18   \n",
      "\n",
      "platform          WiiU   X360   XOne  \n",
      "year_of_release                       \n",
      "2012             17.56  99.74   0.00  \n",
      "2013             21.65  88.58  18.96  \n",
      "2014             22.03  34.74  54.07  \n",
      "2015             16.35  11.96  60.14  \n",
      "2016              4.60   1.52  26.15  \n"
     ]
    }
   ],
   "source": [
    "pivot_anno_juegos = df_games_relevantes.pivot_table(index='year_of_release',columns='platform',values='total_sales',aggfunc='sum',fill_value=0)\n",
    "\n",
    "print(pivot_anno_juegos)"
   ]
  },
  {
   "cell_type": "code",
   "execution_count": 41,
   "metadata": {},
   "outputs": [
    {
     "name": "stdout",
     "output_type": "stream",
     "text": [
      "['PS4', 'PS3', 'X360', '3DS', 'XOne']\n"
     ]
    },
    {
     "data": {
      "image/png": "[encoded data removed]",
      "text/plain": [
       "<Figure size 1000x600 with 1 Axes>"
      ]
     },
     "metadata": {},
     "output_type": "display_data"
    }
   ],
   "source": [
    "top = mejores_plataformas.index.tolist()\n",
    "print(top)\n",
    "pivot_anno_juegos[['PS4','PS3','X360','3DS','XOne']].plot(kind='bar',figsize=(10,6))\n",
    "plt.title('Ventas totales de las mejores plataformas por año')\n",
    "plt.xlabel(\"año\")\n",
    "plt.ylabel('Ventas totales')\n",
    "plt.show()"
   ]
  },
  {
   "cell_type": "markdown",
   "metadata": {},
   "source": [
    "-Las plataformas como mejores ventas fueron la PS4,PS3,X360,3DS,XOne\n",
    "\n",
    "-Se puede apreciar que las plataformas de playstation son las que poseen mayores ventas para los años vistos\n",
    "\n",
    "-Las plataformas preferentes son las de Sony ya que posee tanto la PS3 y la PS4 en la lista, le sigue Microsoft con la Xbox 360 y la Xbox One y por ultimo nintendo con la 3DS"
   ]
  },
  {
   "cell_type": "code",
   "execution_count": 45,
   "metadata": {},
   "outputs": [
    {
     "name": "stdout",
     "output_type": "stream",
     "text": [
      "['PS4' '3DS' 'XOne' 'WiiU' 'PS3' 'PC' 'X360' 'PSV' 'Wii']\n",
      "platform\n",
      "DS     2013\n",
      "PSP    2015\n",
      "Name: year_of_release, dtype: int64\n"
     ]
    }
   ],
   "source": [
    "#primero se realizo un filtro con los juegos que tuvieron ventas el año 2016\n",
    "anno_actual = df_games_relevantes['year_of_release'].max()\n",
    "\n",
    "plataformas_no_olvidadas = df_games_relevantes[(df_games_relevantes['total_sales']>0) & (df_games_relevantes['year_of_release']==anno_actual)]\n",
    "filtro_no_olvidadas = plataformas_no_olvidadas['platform'].unique()\n",
    "\n",
    "print(filtro_no_olvidadas)\n",
    "#el siguiente paso fue usar el filtro anteior para poder seleccionar las plataformas que no tuvieron ventas el año 2016\n",
    "plataformas_olvidadas = df_games_relevantes[~(df_games_relevantes['platform'].isin(filtro_no_olvidadas)) ]\n",
    "\n",
    "print(plataformas_olvidadas.groupby('platform')['year_of_release'].max())"
   ]
  },
  {
   "cell_type": "code",
   "execution_count": 43,
   "metadata": {},
   "outputs": [
    {
     "name": "stdout",
     "output_type": "stream",
     "text": [
      "   platform   min   max  vida\n",
      "0       3DS  2012  2016     4\n",
      "1        DS  2012  2013     1\n",
      "2        PC  2012  2016     4\n",
      "3       PS3  2012  2016     4\n",
      "5       PSP  2012  2015     3\n",
      "6       PSV  2012  2016     4\n",
      "7       Wii  2012  2016     4\n",
      "8      WiiU  2012  2016     4\n",
      "9      X360  2012  2016     4\n",
      "4       PS4  2013  2016     3\n",
      "10     XOne  2013  2016     3\n"
     ]
    }
   ],
   "source": [
    "vida_plataformas = df_games_relevantes.groupby(by='platform')['year_of_release'].agg(['min','max']).reset_index()\n",
    "vida_plataformas['vida'] = vida_plataformas['max'] -  vida_plataformas['min']\n",
    "print(vida_plataformas.sort_values('min'))"
   ]
  },
  {
   "cell_type": "code",
   "execution_count": 44,
   "metadata": {},
   "outputs": [
    {
     "data": {
      "image/png": "[encoded data removed]",
      "text/plain": [
       "<Figure size 1500x500 with 1 Axes>"
      ]
     },
     "metadata": {},
     "output_type": "display_data"
    }
   ],
   "source": [
    "plt.figure(figsize=(15,5))\n",
    "for idx, row in vida_plataformas.iterrows():\n",
    "    plt.plot([row['min'],row['max']],[row['platform'],row['platform']],marker='o')\n",
    "\n",
    "plt.title('Tiempo de vida plataformas ')    \n",
    "plt.xlabel('Años')\n",
    "plt.ylabel('Plataformas')\n",
    "plt.show()"
   ]
  },
  {
   "cell_type": "markdown",
   "metadata": {},
   "source": [
    "-En general la vida util dependera de que tan popular sea la plataforma por lo que se puede apreciar cuando es popular tiene una vida util de al menos 4 años\n",
    "\n",
    "-Las plataformas que no tuvieron ventas el año 2016 fueron la PSP Y la DS\n",
    "\n",
    "-Las plataformas posiblemente mas rentables por el periodo en que salieron y las compañias que generalmente las respaldan(Sony,nintendo,Microsoft) son WiiU, PS4 Y Xbox One\n",
    "\n",
    "-Con respecto a lo anterior se debe considerar en este ambito en particular la plataforma PC ya que hace referencia al equipo computacional como tal por lo cual en el contexto de los videojuegos siempres sera relevante y rentable considerar esta opcion\n",
    "\n"
   ]
  },
  {
   "cell_type": "code",
   "execution_count": 46,
   "metadata": {},
   "outputs": [
    {
     "data": {
      "image/png": "[encoded data removed]",
      "text/plain": [
       "<Figure size 1000x500 with 1 Axes>"
      ]
     },
     "metadata": {},
     "output_type": "display_data"
    }
   ],
   "source": [
    "\n",
    "plt.figure(figsize=(10,5))\n",
    "sns.boxplot(x='platform',y='total_sales',data=df_games_relevantes)\n",
    "\n",
    "plt.show()"
   ]
  },
  {
   "cell_type": "code",
   "execution_count": 47,
   "metadata": {},
   "outputs": [
    {
     "name": "stdout",
     "output_type": "stream",
     "text": [
      "          na_sales  eu_sales  jp_sales  other_sales\n",
      "platform                                           \n",
      "3DS       0.139672  0.107677  0.221692     0.022399\n",
      "DS        0.148065  0.113871  0.120000     0.022903\n",
      "PC        0.076480  0.151040  0.000000     0.023080\n",
      "PS3       0.209696  0.216755  0.071582     0.087748\n",
      "PS4       0.277398  0.359923  0.040714     0.123342\n",
      "PSP       0.000751  0.002428  0.060520     0.000983\n",
      "PSV       0.026715  0.027640  0.051192     0.014112\n",
      "Wii       0.323148  0.220741  0.062778     0.048333\n",
      "WiiU      0.259184  0.170952  0.088503     0.040476\n",
      "X360      0.479623  0.255205  0.005377     0.069863\n",
      "XOne      0.377004  0.208866  0.001377     0.057773\n"
     ]
    }
   ],
   "source": [
    "agg_mean={'na_sales':'mean','eu_sales':'mean','jp_sales':'mean','other_sales':'mean'}\n",
    "\n",
    "df_games_relevantes_mean = df_games_relevantes.groupby('platform').agg(agg_mean)\n",
    "print(df_games_relevantes_mean)"
   ]
  },
  {
   "cell_type": "code",
   "execution_count": 48,
   "metadata": {},
   "outputs": [
    {
     "data": {
      "image/png": "[encoded data removed]",
      "text/plain": [
       "<Figure size 1500x500 with 1 Axes>"
      ]
     },
     "metadata": {},
     "output_type": "display_data"
    }
   ],
   "source": [
    "\n",
    "df_games_relevantes_mean.plot(kind='bar',figsize=(15,5),title='promedio de ventas de plataformas por region',xlabel='plataformas',ylabel='promedio de ventas')\n",
    "\n",
    "plt.show()"
   ]
  },
  {
   "cell_type": "markdown",
   "metadata": {},
   "source": [
    "-Como se puede ver en el grafico de caja la mayoria de plataformas tiene ventas similares , pero de igual forma muestran una gran cantidad de valores atipicos lo que es bueno ya que se concluye que se tienen ventas por sobre los cuartiles dados\n",
    "\n",
    "-Como se puede apreciar en el grafico de promedio de ventas de plataformas por region en norte america y Europa se encuentran con una gran cantidad de ventas a diferencia de Japon"
   ]
  },
  {
   "cell_type": "markdown",
   "metadata": {},
   "source": [
    "## Correlación entre reseñas y ventas"
   ]
  },
  {
   "cell_type": "code",
   "execution_count": 50,
   "metadata": {},
   "outputs": [
    {
     "data": {
      "image/png": "[encoded data removed]",
      "text/plain": [
       "<Figure size 640x480 with 1 Axes>"
      ]
     },
     "metadata": {},
     "output_type": "display_data"
    }
   ],
   "source": [
    "ps3_review = df_games_relevantes[df_games_relevantes['platform'] == 'PS3']\n",
    "\n",
    "plt.scatter(ps3_review['critic_score'], ps3_review['total_sales'])\n",
    "plt.scatter(ps3_review['user_score'], ps3_review['total_sales'])\n",
    "plt.title('Ventas totales segun las criticas')\n",
    "plt.xlabel('Critica')\n",
    "plt.ylabel('Ventas totales')\n",
    "plt.legend(['Critic_score','user_score'],loc='center')\n",
    "plt.show()"
   ]
  },
  {
   "cell_type": "code",
   "execution_count": 52,
   "metadata": {},
   "outputs": [
    {
     "name": "stdout",
     "output_type": "stream",
     "text": [
      "La correlacion entre la critica de los de los medios especializados y las ventas es 0.2662607325220693\n",
      "La correlacion entre la critica de los usuarios y las ventas es 0.046211257404721644\n"
     ]
    }
   ],
   "source": [
    "\n",
    "correlaccion_critic_total_sales = df_games_relevantes['critic_score'].corr(df_games_relevantes['total_sales'])\n",
    "print(f'La correlacion entre la critica de los de los medios especializados y las ventas es {correlaccion_critic_total_sales}')\n",
    "correlaccion_user_critic_total_sales =df_games_relevantes['user_score'].corr(df_games_relevantes['total_sales'])\n",
    "print(f'La correlacion entre la critica de los usuarios y las ventas es {correlaccion_user_critic_total_sales}')"
   ]
  },
  {
   "cell_type": "markdown",
   "metadata": {},
   "source": [
    "-Como se puede ver en el gráfico de dispersión las reseñas positivas si afectan las ventas pero se toma mas peso por las reseñas de los propios jugadores que por la critica especializada\n",
    "\n",
    "-Lo planteado anteriormiento se puede evidenciar por la correlación que tiene las reseñas de los usuario con los ventas totales ya que hay una correlacion entre el user score y las ventas totales superior a la de critic score  "
   ]
  },
  {
   "cell_type": "markdown",
   "metadata": {},
   "source": [
    "## Comparacion de juegos en otras plataformas"
   ]
  },
  {
   "cell_type": "code",
   "execution_count": 53,
   "metadata": {},
   "outputs": [
    {
     "name": "stdout",
     "output_type": "stream",
     "text": [
      "platform                                        3DS   PS3  PS4  X360  XOne\n",
      "name                                                                      \n",
      " beyblade burst                                0.03  0.00  0.0  0.00  0.00\n",
      " fire emblem fates                             1.67  0.00  0.0  0.00  0.00\n",
      " frozen: olaf's quest                          0.59  0.00  0.0  0.00  0.00\n",
      " haikyu!! cross team match!                    0.04  0.00  0.0  0.00  0.00\n",
      " tales of xillia 2                             0.00  0.84  0.0  0.00  0.00\n",
      "...                                             ...   ...  ...   ...   ...\n",
      "zoo tycoon (2013)                              0.00  0.00  0.0  0.09  0.36\n",
      "zumba fitness core                             0.00  0.00  0.0  0.05  0.00\n",
      "zumba fitness rush                             0.00  0.00  0.0  0.18  0.00\n",
      "zumba fitness: world party                     0.00  0.00  0.0  0.00  0.24\n",
      "zyuden sentai kyoryuger: game de gaburincho!!  0.05  0.00  0.0  0.00  0.00\n",
      "\n",
      "[1122 rows x 5 columns]\n"
     ]
    }
   ],
   "source": [
    "mejores_consolas= df_games_relevantes[df_games_relevantes['platform'].isin(top) ]\n",
    "\n",
    "\n",
    "juegos_por_plataforma = mejores_consolas.pivot_table(index='name',columns='platform',values='total_sales',fill_value=0)\n",
    "\n",
    "print(juegos_por_plataforma )"
   ]
  },
  {
   "cell_type": "code",
   "execution_count": 54,
   "metadata": {},
   "outputs": [
    {
     "name": "stdout",
     "output_type": "stream",
     "text": [
      "platform                                              3DS   PS3   PS4  X360  \\\n",
      "name                                       genre                              \n",
      "adventure time: finn & jake investigations action    0.09  0.08  0.10  0.09   \n",
      "angry birds star wars                      strategy  0.33  0.29  0.22  0.28   \n",
      "fifa 14                                    sports    0.23  6.46  3.01  4.22   \n",
      "fifa 15                                    sports    0.46  4.28  6.08  2.92   \n",
      "lego batman 3: beyond gotham               action    0.45  0.73  0.92  0.89   \n",
      "lego jurassic world                        action    0.62  0.85  0.90  0.87   \n",
      "lego marvel super heroes                   action    0.89  1.83  1.62  2.22   \n",
      "lego marvel's avengers                     action    0.18  0.26  0.73  0.32   \n",
      "lego star wars: the force awakens          action    0.13  0.17  0.71  0.12   \n",
      "lego the hobbit                            action    0.24  0.46  0.60  0.45   \n",
      "skylanders swap force                      platform  0.24  1.02  0.38  1.32   \n",
      "skylanders: superchargers                  action    0.12  0.37  0.30  0.42   \n",
      "skylanders: trap team                      action    0.28  0.67  0.44  0.89   \n",
      "terraria                                   action    0.09  0.41  0.07  0.68   \n",
      "the amazing spider-man 2 (2014)            action    0.07  0.26  0.56  0.23   \n",
      "the lego movie videogame                   action    0.69  0.93  0.67  1.27   \n",
      "\n",
      "platform                                             XOne  \n",
      "name                                       genre           \n",
      "adventure time: finn & jake investigations action    0.05  \n",
      "angry birds star wars                      strategy  0.17  \n",
      "fifa 14                                    sports    1.16  \n",
      "fifa 15                                    sports    2.18  \n",
      "lego batman 3: beyond gotham               action    0.44  \n",
      "lego jurassic world                        action    0.66  \n",
      "lego marvel super heroes                   action    1.05  \n",
      "lego marvel's avengers                     action    0.34  \n",
      "lego star wars: the force awakens          action    0.29  \n",
      "lego the hobbit                            action    0.27  \n",
      "skylanders swap force                      platform  0.31  \n",
      "skylanders: superchargers                  action    0.24  \n",
      "skylanders: trap team                      action    0.37  \n",
      "terraria                                   action    0.04  \n",
      "the amazing spider-man 2 (2014)            action    0.22  \n",
      "the lego movie videogame                   action    0.53  \n"
     ]
    }
   ],
   "source": [
    "filtro_cantidad_plataformas_juego = mejores_consolas.groupby('name')['platform'].nunique()\n",
    "filtro_juegos_mas_plataformas = filtro_cantidad_plataformas_juego[filtro_cantidad_plataformas_juego == 5]\n",
    "\n",
    "df_grafico_juegos = mejores_consolas[mejores_consolas['name'].isin(filtro_juegos_mas_plataformas.index)]\n",
    "\n",
    "\n",
    "juegos_por_plataforma2 = df_grafico_juegos.pivot_table(index=['name','genre'],columns='platform',values='total_sales',fill_value=0)\n",
    "print(juegos_por_plataforma2)"
   ]
  },
  {
   "cell_type": "code",
   "execution_count": 55,
   "metadata": {},
   "outputs": [
    {
     "data": {
      "image/png": "[encoded data removed]",
      "text/plain": [
       "<Figure size 1500x500 with 1 Axes>"
      ]
     },
     "metadata": {},
     "output_type": "display_data"
    }
   ],
   "source": [
    "juegos_por_plataforma2.plot(kind='bar',figsize=(15,5),xlabel='Juegos', ylabel='Ventas totales',title='Total de venta de juegos por plataforma')\n",
    "plt.show()"
   ]
  },
  {
   "cell_type": "markdown",
   "metadata": {},
   "source": [
    "-Se filtro y se realizo el analisis solo con juegos que estuvieran en las 5 plataformas mas populares\n",
    "\n",
    "-Por lo general se suele preferir jugar en las plataformas PS3 y Xbox 360 por lo que se puede apreciar en el grafico hay que considerar el genero del juego ya que en este caso la 3DS es una consola portatil y puede preferir ciertos juegos para esta por ejemplo"
   ]
  },
  {
   "cell_type": "markdown",
   "metadata": {},
   "source": [
    "## Juegos por genero"
   ]
  },
  {
   "cell_type": "code",
   "execution_count": 56,
   "metadata": {},
   "outputs": [
    {
     "name": "stdout",
     "output_type": "stream",
     "text": [
      "              total_sales\n",
      "genre                    \n",
      "action             376.25\n",
      "shooter            282.11\n",
      "sports             167.81\n",
      "role-playing       151.26\n",
      "misc                48.78\n",
      "racing              42.18\n",
      "fighting            35.53\n",
      "platform            34.13\n",
      "simulation          25.16\n",
      "adventure           22.68\n",
      "strategy             4.79\n",
      "puzzle               2.72\n"
     ]
    }
   ],
   "source": [
    "filtro_genero = mejores_consolas.pivot_table(index='genre',values='total_sales', aggfunc='sum').sort_values('total_sales',ascending=False)\n",
    "\n",
    "print(filtro_genero)"
   ]
  },
  {
   "cell_type": "code",
   "execution_count": 57,
   "metadata": {},
   "outputs": [
    {
     "data": {
      "image/png": "[encoded data removed]",
      "text/plain": [
       "<Figure size 640x480 with 1 Axes>"
      ]
     },
     "metadata": {},
     "output_type": "display_data"
    }
   ],
   "source": [
    "filtro_genero.plot(kind='bar',legend=False,xlabel='Genero',ylabel='Ventas totales',title='Ventas totales por genero')\n",
    "plt.show()"
   ]
  },
  {
   "cell_type": "markdown",
   "metadata": {},
   "source": [
    "-Se suele preferir juegos que requieren que el jugador realice muchas acciones con el control esto se ve reflejado ya que el genero mas vendido es el de accion y el menos preferido el de estrategia los cuales son mas complejos y contienen acciones automaticas por lo que el judador no interactua tanto con los controles  "
   ]
  },
  {
   "cell_type": "markdown",
   "metadata": {},
   "source": [
    "## Perfiles"
   ]
  },
  {
   "cell_type": "markdown",
   "metadata": {},
   "source": [
    "### Plataformas "
   ]
  },
  {
   "cell_type": "code",
   "execution_count": 58,
   "metadata": {},
   "outputs": [
    {
     "name": "stdout",
     "output_type": "stream",
     "text": [
      "          na_sales\n",
      "platform          \n",
      "X360        140.05\n",
      "PS4         108.74\n",
      "PS3         103.38\n",
      "XOne         93.12\n",
      "3DS          55.31\n",
      "          eu_sales\n",
      "platform          \n",
      "PS4         141.09\n",
      "PS3         106.86\n",
      "X360         74.52\n",
      "XOne         51.59\n",
      "3DS          42.64\n",
      "          jp_sales\n",
      "platform          \n",
      "3DS          87.79\n",
      "PS3          35.29\n",
      "PSV          21.04\n",
      "PS4          15.96\n",
      "WiiU         13.01\n"
     ]
    }
   ],
   "source": [
    "perfil_na = df_games_relevantes.pivot_table(index='platform',values='na_sales', aggfunc='sum').sort_values('na_sales',ascending=False).head()\n",
    "perfil_eu = df_games_relevantes.pivot_table(index='platform',values='eu_sales', aggfunc='sum').sort_values('eu_sales',ascending=False).head()\n",
    "perfil_jp = df_games_relevantes.pivot_table(index='platform',values='jp_sales', aggfunc='sum').sort_values('jp_sales',ascending=False).head()\n",
    "print(perfil_na)\n",
    "print(perfil_eu)\n",
    "print(perfil_jp)"
   ]
  },
  {
   "cell_type": "code",
   "execution_count": 59,
   "metadata": {},
   "outputs": [
    {
     "name": "stdout",
     "output_type": "stream",
     "text": [
      "          na_sales  cuota_mer\n",
      "platform                     \n",
      "X360        140.05  27.976428\n",
      "PS4         108.74  21.721934\n",
      "PS3         103.38  20.651219\n",
      "XOne         93.12  18.601678\n",
      "3DS          55.31  11.048742\n",
      "          eu_sales  cuota_mer\n",
      "platform                     \n",
      "PS4         141.09  33.858891\n",
      "PS3         106.86  25.644348\n",
      "X360         74.52  17.883369\n",
      "XOne         51.59  12.380610\n",
      "3DS          42.64  10.232781\n",
      "          jp_sales  cuota_mer\n",
      "platform                     \n",
      "3DS          87.79  50.719279\n",
      "PS3          35.29  20.388237\n",
      "PSV          21.04  12.155526\n",
      "PS4          15.96   9.220637\n",
      "WiiU         13.01   7.516321\n"
     ]
    }
   ],
   "source": [
    "total_na_sales = perfil_na.sum()\n",
    "total_eu_sales = perfil_eu.sum()\n",
    "total_jp_sales = perfil_jp.sum()\n",
    "\n",
    "perfil_na['cuota_mer'] = perfil_na/total_na_sales * 100\n",
    "perfil_eu['cuota_mer'] = perfil_eu/total_eu_sales * 100\n",
    "perfil_jp['cuota_mer'] = perfil_jp/total_jp_sales * 100\n",
    "print(perfil_na)\n",
    "print(perfil_eu)\n",
    "print(perfil_jp)"
   ]
  },
  {
   "cell_type": "code",
   "execution_count": 55,
   "metadata": {},
   "outputs": [
    {
     "data": {
      "image/png": "[encoded data removed]",
      "text/plain": [
       "<Figure size 1800x500 with 3 Axes>"
      ]
     },
     "metadata": {},
     "output_type": "display_data"
    }
   ],
   "source": [
    "fig, axes = plt.subplots(1,3,figsize=(18,5))\n",
    "\n",
    "axes[0].bar(perfil_na.index,perfil_na['cuota_mer'],color='blue')\n",
    "axes[0].set_title('Cuota de mercado Na')\n",
    "axes[0].set_xlabel('Plataformas')\n",
    "axes[0].set_ylabel('cuota mercado')\n",
    "\n",
    "axes[1].bar(perfil_eu.index,perfil_na['cuota_mer'],color='red')\n",
    "axes[1].set_title('Cuota de mercado Eu')\n",
    "axes[1].set_xlabel('Plataformas')\n",
    "axes[1].set_ylabel('cuota mercado')\n",
    "\n",
    "axes[2].bar(perfil_jp.index,perfil_na['cuota_mer'],color='green')\n",
    "axes[2].set_title('Cuota de mercado jp')\n",
    "axes[2].set_xlabel('Plataformas')\n",
    "axes[2].set_ylabel('cuota mercado')\n",
    "\n",
    "\n",
    "plt.show()"
   ]
  },
  {
   "cell_type": "markdown",
   "metadata": {},
   "source": [
    "-Por lo que se puede apreciar las regiones tiene sus preferencia en cuanto a las consolas\n",
    "\n",
    "-En norte america tiene preferencia por Xbox 360 y PS2 mayormente, en europa por PS2 y PS3 y en japon por la DS y PS2\n"
   ]
  },
  {
   "cell_type": "markdown",
   "metadata": {},
   "source": [
    "### Genero"
   ]
  },
  {
   "cell_type": "code",
   "execution_count": 60,
   "metadata": {},
   "outputs": [
    {
     "name": "stdout",
     "output_type": "stream",
     "text": [
      "              na_sales\n",
      "genre                 \n",
      "action          153.47\n",
      "shooter         136.53\n",
      "sports           77.65\n",
      "role-playing     51.81\n",
      "misc             22.86\n",
      "              eu_sales\n",
      "genre                 \n",
      "action          136.51\n",
      "shooter         102.87\n",
      "sports           63.30\n",
      "role-playing     38.04\n",
      "racing           22.70\n",
      "              jp_sales\n",
      "genre                 \n",
      "role-playing     49.49\n",
      "action           40.95\n",
      "simulation       10.23\n",
      "shooter           7.58\n",
      "fighting          7.41\n"
     ]
    }
   ],
   "source": [
    "perfil_na_genre = mejores_consolas.pivot_table(index='genre',values='na_sales', aggfunc='sum').sort_values('na_sales',ascending=False).head()\n",
    "perfil_eu_genre = mejores_consolas.pivot_table(index='genre',values='eu_sales', aggfunc='sum').sort_values('eu_sales',ascending=False).head()\n",
    "perfil_jp_genre = mejores_consolas.pivot_table(index='genre',values='jp_sales', aggfunc='sum').sort_values('jp_sales',ascending=False).head()\n",
    "print(perfil_na_genre)\n",
    "print(perfil_eu_genre)\n",
    "print(perfil_jp_genre)"
   ]
  },
  {
   "cell_type": "code",
   "execution_count": 61,
   "metadata": {},
   "outputs": [
    {
     "data": {
      "image/png": "[encoded data removed]",
      "text/plain": [
       "<Figure size 1800x500 with 3 Axes>"
      ]
     },
     "metadata": {},
     "output_type": "display_data"
    }
   ],
   "source": [
    "fig, axes1 = plt.subplots(1,3,figsize=(18,5))\n",
    "\n",
    "axes1[0].bar(perfil_na_genre.index,perfil_na_genre['na_sales'],color='blue')\n",
    "axes1[0].set_title('generos con mas ventas NA')\n",
    "axes1[0].set_xlabel('Plataformas')\n",
    "axes1[0].set_ylabel('Ventas')\n",
    "\n",
    "axes1[1].bar(perfil_eu_genre.index,perfil_eu_genre['eu_sales'],color='red')\n",
    "axes1[1].set_title('generos con mas ventas Eu')\n",
    "axes1[1].set_xlabel('Plataformas')\n",
    "axes1[1].set_ylabel('cuota mercado')\n",
    "\n",
    "axes1[2].bar(perfil_jp_genre.index,perfil_jp_genre['jp_sales'],color='green')\n",
    "axes1[2].set_title('generos con mas ventas jp')\n",
    "axes1[2].set_xlabel('Plataformas')\n",
    "axes1[2].set_ylabel('cuota mercado')\n",
    "\n",
    "\n",
    "plt.show()"
   ]
  },
  {
   "cell_type": "markdown",
   "metadata": {},
   "source": [
    "-El genero de accion es el preferido siendo el como mas ventas en las regiones de Norte America y Europa y el segundo en Japon\n",
    "\n",
    "-las regiones de Norte America y Europa tiene preferencia por los mismo generos\n",
    "\n",
    "-Japon tiene diferentes preferencias con respecto a los generos"
   ]
  },
  {
   "cell_type": "markdown",
   "metadata": {},
   "source": [
    "### Rating"
   ]
  },
  {
   "cell_type": "code",
   "execution_count": 62,
   "metadata": {},
   "outputs": [
    {
     "name": "stdout",
     "output_type": "stream",
     "text": [
      "  rating  na_sales\n",
      "0      E    114.37\n",
      "1   E10+     75.70\n",
      "2      M    231.57\n",
      "3    RNA    103.31\n",
      "4      T     66.02\n",
      "  rating  eu_sales\n",
      "0      E    113.03\n",
      "1   E10+     55.37\n",
      "2      M    193.96\n",
      "3    RNA     91.50\n",
      "4      T     52.96\n",
      "  rating  jp_sales\n",
      "0      E     28.33\n",
      "1   E10+      8.19\n",
      "2      M     21.20\n",
      "3    RNA    108.84\n",
      "4      T     26.02\n"
     ]
    }
   ],
   "source": [
    "perfil_na_rating = df_games_relevantes.pivot_table(index='rating',values='na_sales', aggfunc='sum').reset_index()\n",
    "perfil_eu_rating = df_games_relevantes.pivot_table(index='rating',values='eu_sales', aggfunc='sum').reset_index()\n",
    "perfil_jp_rating = df_games_relevantes.pivot_table(index='rating',values='jp_sales', aggfunc='sum').reset_index()\n",
    "\n",
    "print(perfil_na_rating)\n",
    "print(perfil_eu_rating)\n",
    "print(perfil_jp_rating)"
   ]
  },
  {
   "cell_type": "code",
   "execution_count": 63,
   "metadata": {},
   "outputs": [
    {
     "name": "stdout",
     "output_type": "stream",
     "text": [
      "  rating  na_sales  eu_sales  jp_sales\n",
      "0      E    114.37    113.03     28.33\n",
      "1   E10+     75.70     55.37      8.19\n",
      "2      M    231.57    193.96     21.20\n",
      "3    RNA    103.31     91.50    108.84\n",
      "4      T     66.02     52.96     26.02\n"
     ]
    },
    {
     "data": {
      "image/png": "[encoded data removed]",
      "text/plain": [
       "<Figure size 640x480 with 1 Axes>"
      ]
     },
     "metadata": {},
     "output_type": "display_data"
    }
   ],
   "source": [
    "rating_merge = pd.merge(perfil_na_rating,perfil_eu_rating,on='rating')\n",
    "\n",
    "finale_rating = pd.merge(rating_merge,perfil_jp_rating,on='rating')\n",
    "print(finale_rating )\n",
    "\n",
    "finale_rating.plot(kind='bar', x='rating')\n",
    "\n",
    "plt.show()"
   ]
  },
  {
   "cell_type": "markdown",
   "metadata": {},
   "source": [
    "-Las ventas segun el rating(edad recomendada) que tienen los juegos por region en general lo gana Norte America seguido de Europa y finalmente Japon\n",
    "\n",
    "-Segun el grafico mostrado los juegos con rating M para todos son los juegos mas vendidos\n",
    "\n",
    "-Tener en considerancion el rating agregado anteriormente RNA debido a que hay una cantidad de juegos a considerar que no han sido evaluados para estar en algunas de las categorias"
   ]
  },
  {
   "cell_type": "markdown",
   "metadata": {},
   "source": [
    "# Hipótesis"
   ]
  },
  {
   "cell_type": "markdown",
   "metadata": {},
   "source": [
    "## hipotesis 1"
   ]
  },
  {
   "cell_type": "markdown",
   "metadata": {},
   "source": [
    "Las calificaciones promedio de los usuarios para las plataformas Xbox One y PC son las mismas.\n",
    "\n",
    "Hipotesis nula: Las calificaciones promedio de los usuarios para las plataformas Xbox One y PC son iguales\n",
    "\n",
    "Hipotesis alternativa: Las calificaciones promedio de los usuarios para las plataformas Xbox One y PC son diferentes\n"
   ]
  },
  {
   "cell_type": "code",
   "execution_count": 64,
   "metadata": {},
   "outputs": [
    {
     "name": "stdout",
     "output_type": "stream",
     "text": [
      "99       6.9\n",
      "165      7.9\n",
      "179      5.4\n",
      "242      6.4\n",
      "270      6.2\n",
      "        ... \n",
      "16630    8.2\n",
      "16643    6.6\n",
      "16645    6.9\n",
      "16660    6.7\n",
      "16672    0.0\n",
      "Name: user_score, Length: 247, dtype: float64\n",
      "192      4.0\n",
      "458      3.9\n",
      "688      7.9\n",
      "959      4.8\n",
      "1095     7.9\n",
      "        ... \n",
      "16584    7.9\n",
      "16617    6.9\n",
      "16631    6.9\n",
      "16678    6.9\n",
      "16692    7.6\n",
      "Name: user_score, Length: 250, dtype: float64\n",
      "3.2796485764395413\n",
      "3.12994304\n"
     ]
    }
   ],
   "source": [
    "\n",
    "critica_usuarios_xone = df_games_relevantes[df_games_relevantes['platform'] == 'XOne']['user_score']\n",
    "critica_usuarios_pc = df_games_relevantes[df_games_relevantes['platform'] == 'PC']['user_score']\n",
    "print(critica_usuarios_xone)\n",
    "print(critica_usuarios_pc)\n",
    "\n",
    "varianza = np.var(critica_usuarios_xone)\n",
    "varianza2 = np.var(critica_usuarios_pc)\n",
    "print(varianza)\n",
    "print(varianza2)"
   ]
  },
  {
   "cell_type": "code",
   "execution_count": 65,
   "metadata": {},
   "outputs": [
    {
     "name": "stdout",
     "output_type": "stream",
     "text": [
      "valor p: 0.7101755651474378\n",
      "no podemos rechazar la hipotesis nula\n"
     ]
    }
   ],
   "source": [
    "alpha = 0.05\n",
    "results_plataforma = st.ttest_ind(critica_usuarios_xone,critica_usuarios_pc)\n",
    "print('valor p:', results_plataforma.pvalue)\n",
    "\n",
    "if results_plataforma.pvalue < alpha:\n",
    "    print('Rechazamos la hipotesis nula')\n",
    "else:\n",
    "    print('no podemos rechazar la hipotesis nula')"
   ]
  },
  {
   "cell_type": "code",
   "execution_count": 66,
   "metadata": {},
   "outputs": [
    {
     "name": "stdout",
     "output_type": "stream",
     "text": [
      "0.9816880230315098\n",
      "0.3222664852658257\n",
      "no podemos rechazar la hipotesis nula\n"
     ]
    }
   ],
   "source": [
    "results_levene_plataforma = st.levene(critica_usuarios_xone,critica_usuarios_pc)\n",
    "print(results_levene_plataforma.statistic)\n",
    "print(results_levene_plataforma.pvalue)\n",
    "\n",
    "if results_levene_plataforma.pvalue < alpha:\n",
    "    print('Rechazamos la hipotesis nula')\n",
    "else:\n",
    "    print('no podemos rechazar la hipotesis nula')"
   ]
  },
  {
   "cell_type": "markdown",
   "metadata": {},
   "source": [
    "-Utilizando la prueba correspondiente para comprobar si las medias estasdisticas son iguales se pudo comprobar que las reseñas de los usuarios de Xbox One y PC casi iguales\n",
    "\n",
    "-Esto se sustento al hacer la prueba de levene que muestra si las varianzas son iguales y los  resultados tambien condujeron al rechazo el no poder rechazar H0\n",
    "\n",
    "-Por lo visto los usuarios de estas plataformas tienen una opinion similar con respecto a los juegos, puede ser debido a que cuentan con los mismos juegos "
   ]
  },
  {
   "cell_type": "markdown",
   "metadata": {},
   "source": [
    "## hipotesis 2"
   ]
  },
  {
   "cell_type": "markdown",
   "metadata": {},
   "source": [
    "Las calificaciones promedio de los usuarios para los géneros de Acción y Deportes son diferentes\n",
    "\n",
    "Hipotesis nula: Las califiaciones promedio de los usuarios para los generos de accion y deportes son iguales.\n",
    "\n",
    "Hipotesis alternativa: Las calificaciones promedio de los usuarios para los generos de accion y deportes son diferentes"
   ]
  },
  {
   "cell_type": "code",
   "execution_count": 70,
   "metadata": {},
   "outputs": [
    {
     "name": "stdout",
     "output_type": "stream",
     "text": [
      "16       8.2\n",
      "23       8.1\n",
      "42       8.3\n",
      "81       6.6\n",
      "127      6.9\n",
      "        ... \n",
      "16680    6.9\n",
      "16691    6.9\n",
      "16692    7.6\n",
      "16699    6.9\n",
      "16710    6.9\n",
      "Name: user_score, Length: 1031, dtype: float64\n",
      "77       4.3\n",
      "94       5.0\n",
      "126      4.3\n",
      "143      5.7\n",
      "264      4.5\n",
      "        ... \n",
      "16428    6.9\n",
      "16450    4.5\n",
      "16518    1.4\n",
      "16638    0.0\n",
      "16643    6.6\n",
      "Name: user_score, Length: 268, dtype: float64\n"
     ]
    }
   ],
   "source": [
    "critica_usuarios_accion = df_games_relevantes[df_games_relevantes['genre'] == 'action']['user_score']\n",
    "critica_usuarios_deportes = df_games_relevantes[df_games_relevantes['genre'] == 'sports']['user_score']\n",
    "print(critica_usuarios_accion)\n",
    "print(critica_usuarios_deportes)"
   ]
  },
  {
   "cell_type": "code",
   "execution_count": 71,
   "metadata": {},
   "outputs": [
    {
     "name": "stdout",
     "output_type": "stream",
     "text": [
      "El valor de p: 3.8664540799904844e-20\n",
      "Rechazamos la hipotesis nula\n"
     ]
    }
   ],
   "source": [
    "results_genero = st.ttest_ind(critica_usuarios_accion,critica_usuarios_deportes)\n",
    "print('El valor de p:', results_genero.pvalue)\n",
    "\n",
    "if results_genero.pvalue < alpha:\n",
    "    print('Rechazamos la hipotesis nula')\n",
    "else:\n",
    "    print('no podemos rechazar la hipotesis nula')"
   ]
  },
  {
   "cell_type": "code",
   "execution_count": 69,
   "metadata": {},
   "outputs": [
    {
     "name": "stdout",
     "output_type": "stream",
     "text": [
      "51.228201557894856\n",
      "1.372242001537514e-12\n",
      "Rechazamos la hipotesis nula\n"
     ]
    }
   ],
   "source": [
    "results_levene_genero = st.levene(critica_usuarios_accion,critica_usuarios_deportes)\n",
    "print( results_levene_genero.statistic)\n",
    "print(results_levene_genero.pvalue)\n",
    "\n",
    "if results_levene_genero.pvalue < alpha:\n",
    "    print('Rechazamos la hipotesis nula')\n",
    "else:\n",
    "    print('no podemos rechazar la hipotesis nula')"
   ]
  },
  {
   "cell_type": "markdown",
   "metadata": {},
   "source": [
    "-Utilizando la prueba correspondiente para comprobar si las medias estasdisticas son iguales se pudo comprobar que las reseñas de los usuarios para los generos de accion y deportes es diferente. \n",
    "\n",
    "-Esto se sustento al hacer la prueba de levene que muestra si las varianzas son iguales y los  resultados tambien condujeron al rechazo de H0\n",
    "\n",
    "-Al parecer los usuarios no tienen el mismo gusto por los juegos de accion y deportes, puede tener relacion al rating por edad ya que los juegos de deportes pueden ser catalagados para los mas pequeños ya que no incluyen mucha violencia lo que puede no interesar a los mas grandes"
   ]
  },
  {
   "cell_type": "markdown",
   "metadata": {},
   "source": [
    "## Conclusiónes generales"
   ]
  },
  {
   "cell_type": "markdown",
   "metadata": {},
   "source": [
    "-El favoritismo se vio sobre las consolas como Playstation, Xbox y Nintendo\n",
    "\n",
    "-Con respecto al punto anterior en el ambito de los videojuegos la plataforma PC como esta descrita en el dataframe siempre se debe tener en consideracion\n",
    "\n",
    "-Las personas tiene un genere que prefieren el cual es el de accion de manera general y luego por region por lo menos fue el preferido por Norte America y Europa y segundo mejor en el caso de Japon\n",
    "\n",
    "-Como se mencionan en el punto anterior tanto las preferiencias con respecto a la plataforma como el genero las regiones de Norte America y Europa tiene tendencias muy parecidas.\n",
    "\n",
    "-Con respecto al genero de accion esto se puede evidenciar en la comparacion de los mismos juegos en otras plataformas en la cual la moyoria son del genero accion\n",
    "\n",
    "-Japon por otra parte cuenta con otras preferencias un tanto diferentes en cuanto a plataforma y genero preferidos.\n",
    "\n",
    "-Se puede evidenciar que las reseñas de los juegos influencia su compra en mas medida las de los propios usuarios\n",
    "\n",
    "-Los jugadores tienden a preferir juegos con rating(categoria de edad recomendada para un juego) de M lo que quiere decir que estan interesados en juegos que pueden contener violencia, escenas de sangre, etc/ \n",
    "\n",
    "-Por los datos anteriores se puede concluir que los juegos mas rentables seran los de genero accion ya que es una gran preferencia en las 3 regiones estudiadas, en cuanto a las plataformas se vio una tendencia hacia las marcas Playstation, Xbox y nintendo, por lo que la PS4,Xbox One y Nintendo WiiU son las plataformas a considerar para futaras ventas"
   ]
  }
 ],
 "metadata": {
  "ExecuteTimeLog": [
   {
    "duration": 5254,
    "start_time": "2024-07-08T19:52:47.924Z"
   },
   {
    "duration": 62,
    "start_time": "2024-07-08T19:53:56.927Z"
   },
   {
    "duration": 416,
    "start_time": "2024-07-08T19:54:03.816Z"
   },
   {
    "duration": 20,
    "start_time": "2024-07-08T19:54:16.085Z"
   },
   {
    "duration": 17,
    "start_time": "2024-07-08T19:55:36.323Z"
   },
   {
    "duration": 13,
    "start_time": "2024-07-08T19:59:46.023Z"
   },
   {
    "duration": 862,
    "start_time": "2024-07-08T20:01:52.571Z"
   },
   {
    "duration": 1160,
    "start_time": "2024-07-08T20:02:24.043Z"
   },
   {
    "duration": 14,
    "start_time": "2024-07-08T20:03:57.550Z"
   },
   {
    "duration": 8,
    "start_time": "2024-07-08T20:06:26.731Z"
   },
   {
    "duration": 26,
    "start_time": "2024-07-08T20:07:22.022Z"
   },
   {
    "duration": 32,
    "start_time": "2024-07-08T20:07:36.659Z"
   },
   {
    "duration": 123,
    "start_time": "2024-07-08T20:08:52.912Z"
   },
   {
    "duration": 16,
    "start_time": "2024-07-08T20:10:05.006Z"
   },
   {
    "duration": 23,
    "start_time": "2024-07-08T20:10:41.916Z"
   },
   {
    "duration": 7,
    "start_time": "2024-07-08T20:11:43.825Z"
   },
   {
    "duration": 6,
    "start_time": "2024-07-08T20:13:12.402Z"
   },
   {
    "duration": 817,
    "start_time": "2024-07-08T20:13:21.462Z"
   },
   {
    "duration": 8,
    "start_time": "2024-07-08T20:17:25.238Z"
   },
   {
    "duration": 6,
    "start_time": "2024-07-08T20:17:57.330Z"
   },
   {
    "duration": 16,
    "start_time": "2024-07-08T20:22:57.571Z"
   },
   {
    "duration": 237,
    "start_time": "2024-07-08T20:24:10.246Z"
   },
   {
    "duration": 18,
    "start_time": "2024-07-08T20:24:26.325Z"
   },
   {
    "duration": 6,
    "start_time": "2024-07-08T20:24:48.073Z"
   },
   {
    "duration": 20,
    "start_time": "2024-07-08T20:25:53.965Z"
   },
   {
    "duration": 5,
    "start_time": "2024-07-08T20:27:42.030Z"
   },
   {
    "duration": 23,
    "start_time": "2024-07-08T20:31:05.213Z"
   },
   {
    "duration": 6,
    "start_time": "2024-07-08T20:31:08.395Z"
   },
   {
    "duration": 21,
    "start_time": "2024-07-08T20:32:11.683Z"
   },
   {
    "duration": 28,
    "start_time": "2024-07-08T20:32:48.515Z"
   },
   {
    "duration": 9,
    "start_time": "2024-07-08T20:33:03.370Z"
   },
   {
    "duration": 22,
    "start_time": "2024-07-08T20:33:58.838Z"
   },
   {
    "duration": 9,
    "start_time": "2024-07-08T20:35:20.476Z"
   },
   {
    "duration": 11,
    "start_time": "2024-07-08T20:35:39.272Z"
   },
   {
    "duration": 26,
    "start_time": "2024-07-08T20:59:56.691Z"
   },
   {
    "duration": 8,
    "start_time": "2024-07-08T21:00:05.508Z"
   },
   {
    "duration": 17,
    "start_time": "2024-07-08T21:01:00.126Z"
   },
   {
    "duration": 22,
    "start_time": "2024-07-08T21:01:29.799Z"
   },
   {
    "duration": 38,
    "start_time": "2024-07-08T21:04:42.454Z"
   },
   {
    "duration": 20,
    "start_time": "2024-07-08T21:05:15.353Z"
   },
   {
    "duration": 31,
    "start_time": "2024-07-08T21:06:02.735Z"
   },
   {
    "duration": 20,
    "start_time": "2024-07-08T21:06:11.222Z"
   },
   {
    "duration": 32,
    "start_time": "2024-07-08T21:07:03.052Z"
   },
   {
    "duration": 33,
    "start_time": "2024-07-08T21:07:08.546Z"
   },
   {
    "duration": 4603,
    "start_time": "2024-07-10T19:01:47.896Z"
   },
   {
    "duration": 106,
    "start_time": "2024-07-10T19:01:53.694Z"
   },
   {
    "duration": 19,
    "start_time": "2024-07-10T19:01:55.050Z"
   },
   {
    "duration": 14,
    "start_time": "2024-07-10T19:01:59.164Z"
   },
   {
    "duration": 11,
    "start_time": "2024-07-10T19:02:02.383Z"
   },
   {
    "duration": 1433,
    "start_time": "2024-07-10T19:04:23.878Z"
   },
   {
    "duration": 12,
    "start_time": "2024-07-10T19:04:34.876Z"
   },
   {
    "duration": 18,
    "start_time": "2024-07-10T19:05:23.622Z"
   },
   {
    "duration": 12,
    "start_time": "2024-07-10T19:11:02.778Z"
   },
   {
    "duration": 18,
    "start_time": "2024-07-10T19:11:21.801Z"
   },
   {
    "duration": 92,
    "start_time": "2024-07-10T19:12:02.758Z"
   },
   {
    "duration": 6,
    "start_time": "2024-07-10T19:12:16.429Z"
   },
   {
    "duration": 15,
    "start_time": "2024-07-10T19:13:01.243Z"
   },
   {
    "duration": 21,
    "start_time": "2024-07-10T19:15:11.646Z"
   },
   {
    "duration": 11,
    "start_time": "2024-07-10T19:18:56.825Z"
   },
   {
    "duration": 6,
    "start_time": "2024-07-10T19:19:22.438Z"
   },
   {
    "duration": 6,
    "start_time": "2024-07-10T19:19:30.254Z"
   },
   {
    "duration": 16,
    "start_time": "2024-07-10T19:23:27.412Z"
   },
   {
    "duration": 5,
    "start_time": "2024-07-10T19:27:19.775Z"
   },
   {
    "duration": 17,
    "start_time": "2024-07-10T19:28:30.610Z"
   },
   {
    "duration": 9,
    "start_time": "2024-07-10T19:30:12.341Z"
   },
   {
    "duration": 26,
    "start_time": "2024-07-10T19:32:06.816Z"
   },
   {
    "duration": 5,
    "start_time": "2024-07-10T19:36:54.514Z"
   },
   {
    "duration": 6,
    "start_time": "2024-07-10T19:37:33.804Z"
   },
   {
    "duration": 8,
    "start_time": "2024-07-10T19:38:08.496Z"
   },
   {
    "duration": 8,
    "start_time": "2024-07-10T19:38:35.811Z"
   },
   {
    "duration": 8,
    "start_time": "2024-07-10T19:38:39.584Z"
   },
   {
    "duration": 7,
    "start_time": "2024-07-10T19:38:42.242Z"
   },
   {
    "duration": 7,
    "start_time": "2024-07-10T19:38:46.858Z"
   },
   {
    "duration": 8,
    "start_time": "2024-07-10T19:38:49.472Z"
   },
   {
    "duration": 7,
    "start_time": "2024-07-10T19:38:52.326Z"
   },
   {
    "duration": 7,
    "start_time": "2024-07-10T19:38:54.175Z"
   },
   {
    "duration": 7,
    "start_time": "2024-07-10T19:42:43.876Z"
   },
   {
    "duration": 8,
    "start_time": "2024-07-10T19:43:30.506Z"
   },
   {
    "duration": 8,
    "start_time": "2024-07-10T19:44:12.321Z"
   },
   {
    "duration": 6,
    "start_time": "2024-07-10T19:44:16.633Z"
   },
   {
    "duration": 9,
    "start_time": "2024-07-10T19:44:29.952Z"
   },
   {
    "duration": 29,
    "start_time": "2024-07-10T19:46:00.945Z"
   },
   {
    "duration": 37,
    "start_time": "2024-07-10T19:47:02.360Z"
   },
   {
    "duration": 8,
    "start_time": "2024-07-10T19:47:49.604Z"
   },
   {
    "duration": 5,
    "start_time": "2024-07-10T19:55:36.426Z"
   },
   {
    "duration": 6,
    "start_time": "2024-07-10T19:56:01.869Z"
   },
   {
    "duration": 6,
    "start_time": "2024-07-10T20:01:08.509Z"
   },
   {
    "duration": 6,
    "start_time": "2024-07-10T20:02:04.262Z"
   },
   {
    "duration": 10,
    "start_time": "2024-07-10T20:04:39.771Z"
   },
   {
    "duration": 9,
    "start_time": "2024-07-10T20:05:23.315Z"
   },
   {
    "duration": 7,
    "start_time": "2024-07-10T20:06:32.732Z"
   },
   {
    "duration": 6,
    "start_time": "2024-07-10T20:11:14.946Z"
   },
   {
    "duration": 6,
    "start_time": "2024-07-10T20:11:34.381Z"
   },
   {
    "duration": 8,
    "start_time": "2024-07-10T20:12:21.589Z"
   },
   {
    "duration": 18,
    "start_time": "2024-07-10T20:14:52.257Z"
   },
   {
    "duration": 7,
    "start_time": "2024-07-10T20:15:34.400Z"
   },
   {
    "duration": 19,
    "start_time": "2024-07-10T20:16:45.158Z"
   },
   {
    "duration": 13,
    "start_time": "2024-07-10T20:18:16.269Z"
   },
   {
    "duration": 12,
    "start_time": "2024-07-10T20:20:10.191Z"
   },
   {
    "duration": 4900,
    "start_time": "2024-07-12T15:06:06.855Z"
   },
   {
    "duration": 55,
    "start_time": "2024-07-12T15:06:11.760Z"
   },
   {
    "duration": 20,
    "start_time": "2024-07-12T15:06:11.818Z"
   },
   {
    "duration": 14,
    "start_time": "2024-07-12T15:06:11.841Z"
   },
   {
    "duration": 11,
    "start_time": "2024-07-12T15:06:14.044Z"
   },
   {
    "duration": 18,
    "start_time": "2024-07-12T15:06:19.598Z"
   },
   {
    "duration": 9,
    "start_time": "2024-07-12T15:06:23.265Z"
   },
   {
    "duration": 18,
    "start_time": "2024-07-12T15:06:24.573Z"
   },
   {
    "duration": 12,
    "start_time": "2024-07-12T15:06:28.854Z"
   },
   {
    "duration": 5,
    "start_time": "2024-07-12T15:06:29.680Z"
   },
   {
    "duration": 14,
    "start_time": "2024-07-12T15:06:30.268Z"
   },
   {
    "duration": 22,
    "start_time": "2024-07-12T15:06:45.749Z"
   },
   {
    "duration": 5,
    "start_time": "2024-07-12T15:08:13.857Z"
   },
   {
    "duration": 8,
    "start_time": "2024-07-12T15:08:24.889Z"
   },
   {
    "duration": 7,
    "start_time": "2024-07-12T15:08:40.159Z"
   },
   {
    "duration": 9,
    "start_time": "2024-07-12T15:09:25.225Z"
   },
   {
    "duration": 28,
    "start_time": "2024-07-12T15:09:28.648Z"
   },
   {
    "duration": 5,
    "start_time": "2024-07-12T15:10:19.887Z"
   },
   {
    "duration": 9,
    "start_time": "2024-07-12T15:10:20.568Z"
   },
   {
    "duration": 6,
    "start_time": "2024-07-12T15:10:27.086Z"
   },
   {
    "duration": 6,
    "start_time": "2024-07-12T15:10:28.012Z"
   },
   {
    "duration": 6,
    "start_time": "2024-07-12T15:10:39.564Z"
   },
   {
    "duration": 5,
    "start_time": "2024-07-12T15:10:40.202Z"
   },
   {
    "duration": 12,
    "start_time": "2024-07-12T15:10:41.984Z"
   },
   {
    "duration": 8,
    "start_time": "2024-07-12T15:10:49.604Z"
   },
   {
    "duration": 6,
    "start_time": "2024-07-12T15:10:53.237Z"
   },
   {
    "duration": 6,
    "start_time": "2024-07-12T15:10:53.733Z"
   },
   {
    "duration": 11,
    "start_time": "2024-07-12T15:10:54.188Z"
   },
   {
    "duration": 20,
    "start_time": "2024-07-12T15:10:56.878Z"
   },
   {
    "duration": 8,
    "start_time": "2024-07-12T15:11:01.359Z"
   },
   {
    "duration": 19,
    "start_time": "2024-07-12T15:11:01.887Z"
   },
   {
    "duration": 13,
    "start_time": "2024-07-12T15:11:04.866Z"
   },
   {
    "duration": 19,
    "start_time": "2024-07-12T15:26:10.782Z"
   },
   {
    "duration": 427,
    "start_time": "2024-07-12T15:37:05.497Z"
   },
   {
    "duration": 8,
    "start_time": "2024-07-12T15:37:15.765Z"
   },
   {
    "duration": 29,
    "start_time": "2024-07-12T15:38:26.865Z"
   },
   {
    "duration": 21,
    "start_time": "2024-07-12T15:38:36.129Z"
   },
   {
    "duration": 21,
    "start_time": "2024-07-12T15:39:14.937Z"
   },
   {
    "duration": 22,
    "start_time": "2024-07-12T15:40:27.216Z"
   },
   {
    "duration": 13,
    "start_time": "2024-07-12T15:40:47.234Z"
   },
   {
    "duration": 918,
    "start_time": "2024-07-12T15:43:02.016Z"
   },
   {
    "duration": 18,
    "start_time": "2024-07-12T15:43:21.676Z"
   },
   {
    "duration": 13,
    "start_time": "2024-07-12T15:45:42.092Z"
   },
   {
    "duration": 7,
    "start_time": "2024-07-12T15:51:27.388Z"
   },
   {
    "duration": 7,
    "start_time": "2024-07-12T15:52:00.600Z"
   },
   {
    "duration": 20,
    "start_time": "2024-07-12T15:55:29.121Z"
   },
   {
    "duration": 243,
    "start_time": "2024-07-12T15:57:00.951Z"
   },
   {
    "duration": 28,
    "start_time": "2024-07-12T15:58:06.471Z"
   },
   {
    "duration": 188,
    "start_time": "2024-07-12T15:59:30.016Z"
   },
   {
    "duration": 197,
    "start_time": "2024-07-12T16:03:30.609Z"
   },
   {
    "duration": 323,
    "start_time": "2024-07-12T16:07:58.767Z"
   },
   {
    "duration": 87,
    "start_time": "2024-07-12T16:09:44.277Z"
   },
   {
    "duration": 171,
    "start_time": "2024-07-12T16:11:18.420Z"
   },
   {
    "duration": 22,
    "start_time": "2024-07-12T16:12:24.986Z"
   },
   {
    "duration": 42,
    "start_time": "2024-07-12T17:46:11.890Z"
   },
   {
    "duration": 25,
    "start_time": "2024-07-12T17:46:46.213Z"
   },
   {
    "duration": 25,
    "start_time": "2024-07-12T17:47:05.746Z"
   },
   {
    "duration": 9,
    "start_time": "2024-07-12T17:47:21.282Z"
   },
   {
    "duration": 24,
    "start_time": "2024-07-12T17:51:04.788Z"
   },
   {
    "duration": 22,
    "start_time": "2024-07-12T17:51:11.138Z"
   },
   {
    "duration": 22,
    "start_time": "2024-07-12T17:51:20.030Z"
   },
   {
    "duration": 11,
    "start_time": "2024-07-12T17:52:53.704Z"
   },
   {
    "duration": 92,
    "start_time": "2024-07-12T17:58:22.550Z"
   },
   {
    "duration": 576,
    "start_time": "2024-07-12T18:05:08.906Z"
   },
   {
    "duration": 4505,
    "start_time": "2024-07-12T18:05:23.832Z"
   },
   {
    "duration": 57,
    "start_time": "2024-07-12T18:06:57.349Z"
   },
   {
    "duration": 53,
    "start_time": "2024-07-12T18:07:11.271Z"
   },
   {
    "duration": 4,
    "start_time": "2024-07-12T18:08:58.806Z"
   },
   {
    "duration": 27,
    "start_time": "2024-07-12T18:09:21.043Z"
   },
   {
    "duration": 10,
    "start_time": "2024-07-12T18:09:25.483Z"
   },
   {
    "duration": 58,
    "start_time": "2024-07-12T18:09:29.249Z"
   },
   {
    "duration": 8,
    "start_time": "2024-07-12T18:09:32.163Z"
   },
   {
    "duration": 1144,
    "start_time": "2024-07-12T18:10:04.983Z"
   },
   {
    "duration": 1021,
    "start_time": "2024-07-12T18:10:23.680Z"
   },
   {
    "duration": 131,
    "start_time": "2024-07-12T18:11:00.559Z"
   },
   {
    "duration": 955,
    "start_time": "2024-07-12T18:11:11.462Z"
   },
   {
    "duration": 1005,
    "start_time": "2024-07-12T18:17:10.554Z"
   },
   {
    "duration": 1384,
    "start_time": "2024-07-12T18:20:04.220Z"
   },
   {
    "duration": 1168,
    "start_time": "2024-07-12T18:20:18.856Z"
   },
   {
    "duration": 1118,
    "start_time": "2024-07-12T18:22:39.371Z"
   },
   {
    "duration": 1390,
    "start_time": "2024-07-12T18:34:51.268Z"
   },
   {
    "duration": 325,
    "start_time": "2024-07-12T18:47:45.529Z"
   },
   {
    "duration": 13,
    "start_time": "2024-07-12T18:47:56.312Z"
   },
   {
    "duration": 31,
    "start_time": "2024-07-12T18:49:06.357Z"
   },
   {
    "duration": 38,
    "start_time": "2024-07-12T18:49:39.092Z"
   },
   {
    "duration": 15,
    "start_time": "2024-07-12T18:49:46.847Z"
   },
   {
    "duration": 15,
    "start_time": "2024-07-12T18:53:04.864Z"
   },
   {
    "duration": 83,
    "start_time": "2024-07-12T19:12:03.605Z"
   },
   {
    "duration": 11,
    "start_time": "2024-07-12T19:12:37.527Z"
   },
   {
    "duration": 10,
    "start_time": "2024-07-12T19:16:30.478Z"
   },
   {
    "duration": 13,
    "start_time": "2024-07-12T19:17:44.580Z"
   },
   {
    "duration": 25,
    "start_time": "2024-07-12T19:49:59.118Z"
   },
   {
    "duration": 116,
    "start_time": "2024-07-12T19:50:53.387Z"
   },
   {
    "duration": 8,
    "start_time": "2024-07-12T19:51:25.978Z"
   },
   {
    "duration": 26,
    "start_time": "2024-07-12T19:51:49.129Z"
   },
   {
    "duration": 86,
    "start_time": "2024-07-12T19:52:30.575Z"
   },
   {
    "duration": 29,
    "start_time": "2024-07-12T19:52:40.546Z"
   },
   {
    "duration": 24,
    "start_time": "2024-07-12T19:52:56.183Z"
   },
   {
    "duration": 34,
    "start_time": "2024-07-12T19:53:19.783Z"
   },
   {
    "duration": 12,
    "start_time": "2024-07-12T19:53:25.210Z"
   },
   {
    "duration": 21,
    "start_time": "2024-07-12T19:53:46.857Z"
   },
   {
    "duration": 17,
    "start_time": "2024-07-12T19:54:05.750Z"
   },
   {
    "duration": 12,
    "start_time": "2024-07-12T19:55:19.959Z"
   },
   {
    "duration": 18,
    "start_time": "2024-07-12T19:55:24.318Z"
   },
   {
    "duration": 20,
    "start_time": "2024-07-12T19:55:27.638Z"
   },
   {
    "duration": 17,
    "start_time": "2024-07-12T19:55:30.853Z"
   },
   {
    "duration": 456,
    "start_time": "2024-07-12T20:18:02.262Z"
   },
   {
    "duration": 838,
    "start_time": "2024-07-12T20:31:32.848Z"
   },
   {
    "duration": 10522,
    "start_time": "2024-07-12T20:31:44.711Z"
   },
   {
    "duration": 803,
    "start_time": "2024-07-12T20:32:26.110Z"
   },
   {
    "duration": 1594,
    "start_time": "2024-07-12T20:34:09.015Z"
   },
   {
    "duration": 464,
    "start_time": "2024-07-12T20:34:28.580Z"
   },
   {
    "duration": 258,
    "start_time": "2024-07-12T20:36:01.210Z"
   },
   {
    "duration": 432,
    "start_time": "2024-07-12T20:36:20.137Z"
   },
   {
    "duration": 268,
    "start_time": "2024-07-12T20:36:28.308Z"
   },
   {
    "duration": 10485,
    "start_time": "2024-07-12T20:37:07.298Z"
   },
   {
    "duration": 933,
    "start_time": "2024-07-12T20:37:39.481Z"
   },
   {
    "duration": 377,
    "start_time": "2024-07-12T20:42:40.765Z"
   },
   {
    "duration": 108,
    "start_time": "2024-07-12T20:43:19.091Z"
   },
   {
    "duration": 605,
    "start_time": "2024-07-12T20:43:28.902Z"
   },
   {
    "duration": 1127,
    "start_time": "2024-07-12T20:44:35.631Z"
   },
   {
    "duration": 852,
    "start_time": "2024-07-12T20:45:23.525Z"
   },
   {
    "duration": 7,
    "start_time": "2024-07-12T20:51:21.067Z"
   },
   {
    "duration": 19,
    "start_time": "2024-07-12T20:51:43.334Z"
   },
   {
    "duration": 18,
    "start_time": "2024-07-12T20:53:06.966Z"
   },
   {
    "duration": 26,
    "start_time": "2024-07-12T20:54:12.134Z"
   },
   {
    "duration": 186,
    "start_time": "2024-07-12T20:54:23.111Z"
   },
   {
    "duration": 25,
    "start_time": "2024-07-12T20:54:59.154Z"
   },
   {
    "duration": 30,
    "start_time": "2024-07-12T20:55:17.597Z"
   },
   {
    "duration": 22,
    "start_time": "2024-07-12T20:55:22.482Z"
   },
   {
    "duration": 329,
    "start_time": "2024-07-12T20:56:29.313Z"
   },
   {
    "duration": 27,
    "start_time": "2024-07-12T20:56:51.970Z"
   },
   {
    "duration": 290,
    "start_time": "2024-07-12T20:57:00.880Z"
   },
   {
    "duration": 501,
    "start_time": "2024-07-12T21:03:30.911Z"
   },
   {
    "duration": 355,
    "start_time": "2024-07-12T21:04:05.094Z"
   },
   {
    "duration": 130,
    "start_time": "2024-07-12T21:07:47.586Z"
   },
   {
    "duration": 671,
    "start_time": "2024-07-12T21:07:56.575Z"
   },
   {
    "duration": 435,
    "start_time": "2024-07-12T21:08:19.517Z"
   },
   {
    "duration": 758,
    "start_time": "2024-07-12T21:08:50.795Z"
   },
   {
    "duration": 20,
    "start_time": "2024-07-12T21:10:36.258Z"
   },
   {
    "duration": 46,
    "start_time": "2024-07-12T21:12:03.364Z"
   },
   {
    "duration": 149,
    "start_time": "2024-07-12T21:14:33.533Z"
   },
   {
    "duration": 558,
    "start_time": "2024-07-12T21:15:51.705Z"
   },
   {
    "duration": 576,
    "start_time": "2024-07-12T21:16:25.037Z"
   },
   {
    "duration": 163,
    "start_time": "2024-07-12T21:47:52.343Z"
   },
   {
    "duration": 183,
    "start_time": "2024-07-12T21:48:35.579Z"
   },
   {
    "duration": 562,
    "start_time": "2024-07-12T21:48:48.181Z"
   },
   {
    "duration": 10,
    "start_time": "2024-07-12T21:53:28.883Z"
   },
   {
    "duration": 20,
    "start_time": "2024-07-12T21:54:12.589Z"
   },
   {
    "duration": 16,
    "start_time": "2024-07-12T21:57:07.934Z"
   },
   {
    "duration": 534,
    "start_time": "2024-07-12T22:12:36.511Z"
   },
   {
    "duration": 547,
    "start_time": "2024-07-12T22:12:44.904Z"
   },
   {
    "duration": 803,
    "start_time": "2024-07-12T22:21:03.555Z"
   },
   {
    "duration": 565,
    "start_time": "2024-07-12T22:27:12.706Z"
   },
   {
    "duration": 541,
    "start_time": "2024-07-12T22:27:20.461Z"
   },
   {
    "duration": 565,
    "start_time": "2024-07-12T22:27:30.608Z"
   },
   {
    "duration": 575,
    "start_time": "2024-07-12T22:28:15.564Z"
   },
   {
    "duration": 609,
    "start_time": "2024-07-12T22:30:34.695Z"
   },
   {
    "duration": 5039,
    "start_time": "2024-07-15T13:45:42.934Z"
   },
   {
    "duration": 57,
    "start_time": "2024-07-15T13:45:48.664Z"
   },
   {
    "duration": 18,
    "start_time": "2024-07-15T13:45:49.471Z"
   },
   {
    "duration": 14,
    "start_time": "2024-07-15T13:45:50.445Z"
   },
   {
    "duration": 10,
    "start_time": "2024-07-15T13:45:51.687Z"
   },
   {
    "duration": 18,
    "start_time": "2024-07-15T13:45:56.028Z"
   },
   {
    "duration": 10,
    "start_time": "2024-07-15T13:46:00.561Z"
   },
   {
    "duration": 18,
    "start_time": "2024-07-15T13:46:01.657Z"
   },
   {
    "duration": 12,
    "start_time": "2024-07-15T13:46:05.196Z"
   },
   {
    "duration": 5,
    "start_time": "2024-07-15T13:46:06.024Z"
   },
   {
    "duration": 16,
    "start_time": "2024-07-15T13:46:07.827Z"
   },
   {
    "duration": 16,
    "start_time": "2024-07-15T13:46:12.072Z"
   },
   {
    "duration": 7,
    "start_time": "2024-07-15T13:46:16.700Z"
   },
   {
    "duration": 9,
    "start_time": "2024-07-15T13:46:17.463Z"
   },
   {
    "duration": 24,
    "start_time": "2024-07-15T13:46:18.325Z"
   },
   {
    "duration": 6,
    "start_time": "2024-07-15T13:46:22.466Z"
   },
   {
    "duration": 11,
    "start_time": "2024-07-15T13:46:23.122Z"
   },
   {
    "duration": 14,
    "start_time": "2024-07-15T13:46:28.062Z"
   },
   {
    "duration": 6,
    "start_time": "2024-07-15T13:46:28.798Z"
   },
   {
    "duration": 5,
    "start_time": "2024-07-15T13:46:34.278Z"
   },
   {
    "duration": 6,
    "start_time": "2024-07-15T13:46:34.933Z"
   },
   {
    "duration": 11,
    "start_time": "2024-07-15T13:46:35.652Z"
   },
   {
    "duration": 8,
    "start_time": "2024-07-15T13:46:36.564Z"
   },
   {
    "duration": 6,
    "start_time": "2024-07-15T13:46:40.494Z"
   },
   {
    "duration": 5,
    "start_time": "2024-07-15T13:46:41.092Z"
   },
   {
    "duration": 10,
    "start_time": "2024-07-15T13:46:41.530Z"
   },
   {
    "duration": 19,
    "start_time": "2024-07-15T13:46:51.817Z"
   },
   {
    "duration": 7,
    "start_time": "2024-07-15T13:46:55.047Z"
   },
   {
    "duration": 19,
    "start_time": "2024-07-15T13:46:55.835Z"
   },
   {
    "duration": 12,
    "start_time": "2024-07-15T13:47:00.201Z"
   },
   {
    "duration": 15,
    "start_time": "2024-07-15T13:47:08.756Z"
   },
   {
    "duration": 16,
    "start_time": "2024-07-15T13:47:14.011Z"
   },
   {
    "duration": 19,
    "start_time": "2024-07-15T13:47:25.693Z"
   },
   {
    "duration": 17,
    "start_time": "2024-07-15T13:47:54.068Z"
   },
   {
    "duration": 58,
    "start_time": "2024-07-15T13:48:04.263Z"
   },
   {
    "duration": 1215,
    "start_time": "2024-07-15T13:48:21.435Z"
   },
   {
    "duration": 14,
    "start_time": "2024-07-15T13:48:28.312Z"
   },
   {
    "duration": 17,
    "start_time": "2024-07-15T13:48:47.073Z"
   },
   {
    "duration": 19,
    "start_time": "2024-07-15T13:49:17.801Z"
   },
   {
    "duration": 583,
    "start_time": "2024-07-15T13:49:26.340Z"
   },
   {
    "duration": 17,
    "start_time": "2024-07-15T13:49:43.283Z"
   },
   {
    "duration": 725,
    "start_time": "2024-07-15T13:49:50.153Z"
   },
   {
    "duration": 20,
    "start_time": "2024-07-15T13:51:43.649Z"
   },
   {
    "duration": 191,
    "start_time": "2024-07-15T14:01:59.796Z"
   },
   {
    "duration": 214,
    "start_time": "2024-07-15T14:02:40.224Z"
   },
   {
    "duration": 1256,
    "start_time": "2024-07-15T14:07:22.233Z"
   },
   {
    "duration": 6,
    "start_time": "2024-07-15T14:07:41.706Z"
   },
   {
    "duration": 32,
    "start_time": "2024-07-15T14:08:55.110Z"
   },
   {
    "duration": 8,
    "start_time": "2024-07-15T14:09:09.304Z"
   },
   {
    "duration": 21,
    "start_time": "2024-07-15T14:26:15.659Z"
   },
   {
    "duration": 6,
    "start_time": "2024-07-15T14:26:43.990Z"
   },
   {
    "duration": 13,
    "start_time": "2024-07-15T14:27:03.435Z"
   },
   {
    "duration": 19,
    "start_time": "2024-07-15T14:27:30.176Z"
   },
   {
    "duration": 13,
    "start_time": "2024-07-15T14:27:51.043Z"
   },
   {
    "duration": 19,
    "start_time": "2024-07-15T14:29:23.119Z"
   },
   {
    "duration": 90,
    "start_time": "2024-07-15T14:29:59.354Z"
   },
   {
    "duration": 15,
    "start_time": "2024-07-15T14:30:23.340Z"
   },
   {
    "duration": 64,
    "start_time": "2024-07-15T14:34:31.866Z"
   },
   {
    "duration": 192034,
    "start_time": "2024-07-15T14:36:03.664Z"
   },
   {
    "duration": 62,
    "start_time": "2024-07-15T14:39:19.783Z"
   },
   {
    "duration": 55,
    "start_time": "2024-07-15T14:40:42.219Z"
   },
   {
    "duration": 0,
    "start_time": "2024-07-15T14:41:51.910Z"
   },
   {
    "duration": 125,
    "start_time": "2024-07-15T14:44:11.049Z"
   },
   {
    "duration": 26,
    "start_time": "2024-07-15T14:45:17.613Z"
   },
   {
    "duration": 554,
    "start_time": "2024-07-15T14:45:39.501Z"
   },
   {
    "duration": 28,
    "start_time": "2024-07-15T14:46:09.794Z"
   },
   {
    "duration": 379,
    "start_time": "2024-07-15T14:46:17.245Z"
   },
   {
    "duration": 314,
    "start_time": "2024-07-15T14:46:58.578Z"
   },
   {
    "duration": 1344,
    "start_time": "2024-07-15T14:47:09.673Z"
   },
   {
    "duration": 69,
    "start_time": "2024-07-15T14:47:11.021Z"
   },
   {
    "duration": 26,
    "start_time": "2024-07-15T14:47:11.093Z"
   },
   {
    "duration": 19,
    "start_time": "2024-07-15T14:47:11.125Z"
   },
   {
    "duration": 14,
    "start_time": "2024-07-15T14:47:11.149Z"
   },
   {
    "duration": 52,
    "start_time": "2024-07-15T14:47:11.166Z"
   },
   {
    "duration": 12,
    "start_time": "2024-07-15T14:47:11.222Z"
   },
   {
    "duration": 19,
    "start_time": "2024-07-15T14:47:11.238Z"
   },
   {
    "duration": 52,
    "start_time": "2024-07-15T14:47:11.261Z"
   },
   {
    "duration": 6,
    "start_time": "2024-07-15T14:47:11.317Z"
   },
   {
    "duration": 21,
    "start_time": "2024-07-15T14:47:11.327Z"
   },
   {
    "duration": 59,
    "start_time": "2024-07-15T14:47:11.350Z"
   },
   {
    "duration": 9,
    "start_time": "2024-07-15T14:47:11.412Z"
   },
   {
    "duration": 9,
    "start_time": "2024-07-15T14:47:11.429Z"
   },
   {
    "duration": 70,
    "start_time": "2024-07-15T14:47:11.440Z"
   },
   {
    "duration": 6,
    "start_time": "2024-07-15T14:47:11.513Z"
   },
   {
    "duration": 11,
    "start_time": "2024-07-15T14:47:11.522Z"
   },
   {
    "duration": 6,
    "start_time": "2024-07-15T14:47:11.535Z"
   },
   {
    "duration": 7,
    "start_time": "2024-07-15T14:47:11.544Z"
   },
   {
    "duration": 57,
    "start_time": "2024-07-15T14:47:11.555Z"
   },
   {
    "duration": 22,
    "start_time": "2024-07-15T14:47:11.621Z"
   },
   {
    "duration": 12,
    "start_time": "2024-07-15T14:47:11.647Z"
   },
   {
    "duration": 9,
    "start_time": "2024-07-15T14:47:11.662Z"
   },
   {
    "duration": 6,
    "start_time": "2024-07-15T14:47:11.674Z"
   },
   {
    "duration": 6,
    "start_time": "2024-07-15T14:47:11.715Z"
   },
   {
    "duration": 14,
    "start_time": "2024-07-15T14:47:11.725Z"
   },
   {
    "duration": 28,
    "start_time": "2024-07-15T14:47:11.741Z"
   },
   {
    "duration": 38,
    "start_time": "2024-07-15T14:47:11.773Z"
   },
   {
    "duration": 24,
    "start_time": "2024-07-15T14:47:11.816Z"
   },
   {
    "duration": 22,
    "start_time": "2024-07-15T14:47:11.844Z"
   },
   {
    "duration": 50,
    "start_time": "2024-07-15T14:47:11.869Z"
   },
   {
    "duration": 24,
    "start_time": "2024-07-15T14:47:11.923Z"
   },
   {
    "duration": 19,
    "start_time": "2024-07-15T14:47:11.950Z"
   },
   {
    "duration": 19,
    "start_time": "2024-07-15T14:47:12.008Z"
   },
   {
    "duration": 84,
    "start_time": "2024-07-15T14:47:12.030Z"
   },
   {
    "duration": 1271,
    "start_time": "2024-07-15T14:47:12.118Z"
   },
   {
    "duration": 22,
    "start_time": "2024-07-15T14:47:13.392Z"
   },
   {
    "duration": 16,
    "start_time": "2024-07-15T14:47:13.418Z"
   },
   {
    "duration": 1950,
    "start_time": "2024-07-15T14:47:13.438Z"
   },
   {
    "duration": 0,
    "start_time": "2024-07-15T14:47:15.392Z"
   },
   {
    "duration": 0,
    "start_time": "2024-07-15T14:47:15.394Z"
   },
   {
    "duration": 0,
    "start_time": "2024-07-15T14:47:15.396Z"
   },
   {
    "duration": 0,
    "start_time": "2024-07-15T14:47:15.399Z"
   },
   {
    "duration": 0,
    "start_time": "2024-07-15T14:47:15.412Z"
   },
   {
    "duration": 1,
    "start_time": "2024-07-15T14:47:15.414Z"
   },
   {
    "duration": 0,
    "start_time": "2024-07-15T14:47:15.417Z"
   },
   {
    "duration": 1339,
    "start_time": "2024-07-15T14:47:22.832Z"
   },
   {
    "duration": 48,
    "start_time": "2024-07-15T14:47:24.175Z"
   },
   {
    "duration": 20,
    "start_time": "2024-07-15T14:47:24.225Z"
   },
   {
    "duration": 15,
    "start_time": "2024-07-15T14:47:24.249Z"
   },
   {
    "duration": 43,
    "start_time": "2024-07-15T14:47:24.266Z"
   },
   {
    "duration": 19,
    "start_time": "2024-07-15T14:47:24.312Z"
   },
   {
    "duration": 9,
    "start_time": "2024-07-15T14:47:24.333Z"
   },
   {
    "duration": 20,
    "start_time": "2024-07-15T14:47:24.346Z"
   },
   {
    "duration": 12,
    "start_time": "2024-07-15T14:47:24.409Z"
   },
   {
    "duration": 4,
    "start_time": "2024-07-15T14:47:24.430Z"
   },
   {
    "duration": 19,
    "start_time": "2024-07-15T14:47:24.438Z"
   },
   {
    "duration": 58,
    "start_time": "2024-07-15T14:47:24.460Z"
   },
   {
    "duration": 9,
    "start_time": "2024-07-15T14:47:24.521Z"
   },
   {
    "duration": 14,
    "start_time": "2024-07-15T14:47:24.534Z"
   },
   {
    "duration": 67,
    "start_time": "2024-07-15T14:47:24.552Z"
   },
   {
    "duration": 6,
    "start_time": "2024-07-15T14:47:24.623Z"
   },
   {
    "duration": 12,
    "start_time": "2024-07-15T14:47:24.632Z"
   },
   {
    "duration": 6,
    "start_time": "2024-07-15T14:47:24.647Z"
   },
   {
    "duration": 54,
    "start_time": "2024-07-15T14:47:24.657Z"
   },
   {
    "duration": 7,
    "start_time": "2024-07-15T14:47:24.717Z"
   },
   {
    "duration": 7,
    "start_time": "2024-07-15T14:47:24.728Z"
   },
   {
    "duration": 14,
    "start_time": "2024-07-15T14:47:24.738Z"
   },
   {
    "duration": 8,
    "start_time": "2024-07-15T14:47:24.756Z"
   },
   {
    "duration": 10,
    "start_time": "2024-07-15T14:47:24.812Z"
   },
   {
    "duration": 5,
    "start_time": "2024-07-15T14:47:24.825Z"
   },
   {
    "duration": 11,
    "start_time": "2024-07-15T14:47:24.833Z"
   },
   {
    "duration": 69,
    "start_time": "2024-07-15T14:47:24.847Z"
   },
   {
    "duration": 9,
    "start_time": "2024-07-15T14:47:24.925Z"
   },
   {
    "duration": 19,
    "start_time": "2024-07-15T14:47:24.938Z"
   },
   {
    "duration": 50,
    "start_time": "2024-07-15T14:47:24.960Z"
   },
   {
    "duration": 16,
    "start_time": "2024-07-15T14:47:25.014Z"
   },
   {
    "duration": 16,
    "start_time": "2024-07-15T14:47:25.034Z"
   },
   {
    "duration": 20,
    "start_time": "2024-07-15T14:47:25.052Z"
   },
   {
    "duration": 17,
    "start_time": "2024-07-15T14:47:25.108Z"
   },
   {
    "duration": 48,
    "start_time": "2024-07-15T14:47:25.128Z"
   },
   {
    "duration": 1238,
    "start_time": "2024-07-15T14:47:25.180Z"
   },
   {
    "duration": 10,
    "start_time": "2024-07-15T14:47:26.421Z"
   },
   {
    "duration": 14,
    "start_time": "2024-07-15T14:47:26.434Z"
   },
   {
    "duration": 61,
    "start_time": "2024-07-15T14:47:26.451Z"
   },
   {
    "duration": 557,
    "start_time": "2024-07-15T14:47:26.515Z"
   },
   {
    "duration": 17,
    "start_time": "2024-07-15T14:47:27.075Z"
   },
   {
    "duration": 649,
    "start_time": "2024-07-15T14:47:27.110Z"
   },
   {
    "duration": 218,
    "start_time": "2024-07-15T14:47:27.762Z"
   },
   {
    "duration": 8,
    "start_time": "2024-07-15T14:47:27.983Z"
   },
   {
    "duration": 56,
    "start_time": "2024-07-15T14:47:28.010Z"
   },
   {
    "duration": 433,
    "start_time": "2024-07-15T14:48:26.476Z"
   },
   {
    "duration": 76,
    "start_time": "2024-07-15T14:48:52.952Z"
   },
   {
    "duration": 62,
    "start_time": "2024-07-15T14:49:03.519Z"
   },
   {
    "duration": 25,
    "start_time": "2024-07-15T14:54:24.183Z"
   },
   {
    "duration": 27,
    "start_time": "2024-07-15T14:58:36.576Z"
   },
   {
    "duration": 119,
    "start_time": "2024-07-15T14:58:56.094Z"
   },
   {
    "duration": 26,
    "start_time": "2024-07-15T14:59:07.978Z"
   },
   {
    "duration": 16460,
    "start_time": "2024-07-15T14:59:18.888Z"
   },
   {
    "duration": 71,
    "start_time": "2024-07-15T15:01:42.668Z"
   },
   {
    "duration": 29069,
    "start_time": "2024-07-15T15:01:49.520Z"
   },
   {
    "duration": 52,
    "start_time": "2024-07-15T15:02:48.634Z"
   },
   {
    "duration": 54,
    "start_time": "2024-07-15T15:03:04.957Z"
   },
   {
    "duration": 598,
    "start_time": "2024-07-15T15:06:30.750Z"
   },
   {
    "duration": 61,
    "start_time": "2024-07-15T15:07:53.431Z"
   },
   {
    "duration": 78,
    "start_time": "2024-07-15T15:08:09.094Z"
   },
   {
    "duration": 303,
    "start_time": "2024-07-15T15:08:55.658Z"
   },
   {
    "duration": 10,
    "start_time": "2024-07-15T15:09:10.605Z"
   },
   {
    "duration": 74,
    "start_time": "2024-07-15T15:09:20.201Z"
   },
   {
    "duration": 64,
    "start_time": "2024-07-15T15:09:57.226Z"
   },
   {
    "duration": 20,
    "start_time": "2024-07-15T15:15:04.156Z"
   },
   {
    "duration": 36,
    "start_time": "2024-07-15T15:15:37.015Z"
   },
   {
    "duration": 36,
    "start_time": "2024-07-15T15:15:47.713Z"
   },
   {
    "duration": 230472,
    "start_time": "2024-07-15T15:16:34.821Z"
   },
   {
    "duration": 531,
    "start_time": "2024-07-15T15:22:51.804Z"
   },
   {
    "duration": 41,
    "start_time": "2024-07-15T15:23:09.746Z"
   },
   {
    "duration": 92,
    "start_time": "2024-07-15T15:23:50.844Z"
   },
   {
    "duration": 198,
    "start_time": "2024-07-15T15:24:04.522Z"
   },
   {
    "duration": 32,
    "start_time": "2024-07-15T15:24:23.247Z"
   },
   {
    "duration": 89,
    "start_time": "2024-07-15T15:25:26.732Z"
   },
   {
    "duration": 75,
    "start_time": "2024-07-15T15:25:48.550Z"
   },
   {
    "duration": 641,
    "start_time": "2024-07-15T15:27:03.846Z"
   },
   {
    "duration": 152,
    "start_time": "2024-07-15T15:28:24.544Z"
   },
   {
    "duration": 35,
    "start_time": "2024-07-15T15:28:38.523Z"
   },
   {
    "duration": 109,
    "start_time": "2024-07-15T15:28:59.957Z"
   },
   {
    "duration": 33,
    "start_time": "2024-07-15T15:29:09.438Z"
   },
   {
    "duration": 41,
    "start_time": "2024-07-15T15:30:04.795Z"
   },
   {
    "duration": 106,
    "start_time": "2024-07-15T15:30:22.552Z"
   },
   {
    "duration": 49,
    "start_time": "2024-07-15T15:31:35.625Z"
   },
   {
    "duration": 184,
    "start_time": "2024-07-15T15:37:05.872Z"
   },
   {
    "duration": 21,
    "start_time": "2024-07-15T15:38:03.348Z"
   },
   {
    "duration": 172,
    "start_time": "2024-07-15T15:41:10.491Z"
   },
   {
    "duration": 248,
    "start_time": "2024-07-15T15:41:36.472Z"
   },
   {
    "duration": 44,
    "start_time": "2024-07-15T15:41:49.862Z"
   },
   {
    "duration": 15,
    "start_time": "2024-07-15T15:41:59.552Z"
   },
   {
    "duration": 21,
    "start_time": "2024-07-15T15:43:38.957Z"
   },
   {
    "duration": 21,
    "start_time": "2024-07-15T15:43:58.094Z"
   },
   {
    "duration": 28,
    "start_time": "2024-07-15T15:48:50.119Z"
   },
   {
    "duration": 44,
    "start_time": "2024-07-15T15:49:57.350Z"
   },
   {
    "duration": 6981,
    "start_time": "2024-07-15T15:51:38.370Z"
   },
   {
    "duration": 6970,
    "start_time": "2024-07-15T15:52:26.714Z"
   },
   {
    "duration": 37,
    "start_time": "2024-07-15T15:53:16.289Z"
   },
   {
    "duration": 309,
    "start_time": "2024-07-15T15:57:45.038Z"
   },
   {
    "duration": 15,
    "start_time": "2024-07-15T15:59:10.220Z"
   },
   {
    "duration": 19,
    "start_time": "2024-07-15T16:00:28.486Z"
   },
   {
    "duration": 16,
    "start_time": "2024-07-15T16:01:22.589Z"
   },
   {
    "duration": 35,
    "start_time": "2024-07-15T16:03:29.322Z"
   },
   {
    "duration": 48,
    "start_time": "2024-07-15T18:18:36.221Z"
   },
   {
    "duration": 46,
    "start_time": "2024-07-15T18:19:24.035Z"
   },
   {
    "duration": 33,
    "start_time": "2024-07-15T18:19:47.241Z"
   },
   {
    "duration": 42,
    "start_time": "2024-07-15T18:20:51.219Z"
   },
   {
    "duration": 407,
    "start_time": "2024-07-15T18:21:07.574Z"
   },
   {
    "duration": 39,
    "start_time": "2024-07-15T18:23:36.691Z"
   },
   {
    "duration": 539,
    "start_time": "2024-07-15T18:23:42.889Z"
   },
   {
    "duration": 37,
    "start_time": "2024-07-15T18:26:25.773Z"
   },
   {
    "duration": 11631,
    "start_time": "2024-07-15T18:26:35.270Z"
   },
   {
    "duration": 9,
    "start_time": "2024-07-15T18:32:25.363Z"
   },
   {
    "duration": 43,
    "start_time": "2024-07-15T18:32:33.189Z"
   },
   {
    "duration": 2142,
    "start_time": "2024-07-15T18:32:57.379Z"
   },
   {
    "duration": 42,
    "start_time": "2024-07-15T18:35:01.205Z"
   },
   {
    "duration": 15,
    "start_time": "2024-07-15T18:37:16.742Z"
   },
   {
    "duration": 32,
    "start_time": "2024-07-15T18:40:31.082Z"
   },
   {
    "duration": 17,
    "start_time": "2024-07-15T18:42:57.715Z"
   },
   {
    "duration": 35,
    "start_time": "2024-07-15T18:44:27.014Z"
   },
   {
    "duration": 37,
    "start_time": "2024-07-15T18:45:07.985Z"
   },
   {
    "duration": 33,
    "start_time": "2024-07-15T18:47:59.206Z"
   },
   {
    "duration": 265,
    "start_time": "2024-07-15T19:23:32.850Z"
   },
   {
    "duration": 226,
    "start_time": "2024-07-15T19:25:58.850Z"
   },
   {
    "duration": 2441,
    "start_time": "2024-07-15T19:28:04.182Z"
   },
   {
    "duration": 242,
    "start_time": "2024-07-15T19:29:05.836Z"
   },
   {
    "duration": 655,
    "start_time": "2024-07-15T19:29:54.279Z"
   },
   {
    "duration": 582,
    "start_time": "2024-07-15T19:32:18.837Z"
   },
   {
    "duration": 999,
    "start_time": "2024-07-15T19:32:58.986Z"
   },
   {
    "duration": 1105,
    "start_time": "2024-07-15T19:37:42.368Z"
   },
   {
    "duration": 151,
    "start_time": "2024-07-15T19:39:57.427Z"
   },
   {
    "duration": 253,
    "start_time": "2024-07-15T19:40:26.933Z"
   },
   {
    "duration": 26,
    "start_time": "2024-07-15T19:42:18.709Z"
   },
   {
    "duration": 23,
    "start_time": "2024-07-15T19:42:56.368Z"
   },
   {
    "duration": 888,
    "start_time": "2024-07-15T19:43:29.711Z"
   },
   {
    "duration": 23,
    "start_time": "2024-07-15T19:43:57.625Z"
   },
   {
    "duration": 6,
    "start_time": "2024-07-15T19:44:42.086Z"
   },
   {
    "duration": 191,
    "start_time": "2024-07-15T19:44:50.549Z"
   },
   {
    "duration": 418,
    "start_time": "2024-07-15T19:45:15.030Z"
   },
   {
    "duration": 240,
    "start_time": "2024-07-15T19:48:16.237Z"
   },
   {
    "duration": 236,
    "start_time": "2024-07-15T19:48:37.648Z"
   },
   {
    "duration": 86,
    "start_time": "2024-07-15T19:49:14.960Z"
   },
   {
    "duration": 5,
    "start_time": "2024-07-15T19:49:38.168Z"
   },
   {
    "duration": 4,
    "start_time": "2024-07-15T19:49:55.613Z"
   },
   {
    "duration": 587,
    "start_time": "2024-07-15T19:53:03.053Z"
   },
   {
    "duration": 926,
    "start_time": "2024-07-15T19:57:38.742Z"
   },
   {
    "duration": 33,
    "start_time": "2024-07-15T20:02:57.481Z"
   },
   {
    "duration": 34,
    "start_time": "2024-07-15T20:03:29.800Z"
   },
   {
    "duration": 239,
    "start_time": "2024-07-15T20:04:31.385Z"
   },
   {
    "duration": 339,
    "start_time": "2024-07-15T20:05:59.437Z"
   },
   {
    "duration": 255,
    "start_time": "2024-07-15T20:07:06.909Z"
   },
   {
    "duration": 258,
    "start_time": "2024-07-15T20:08:32.020Z"
   },
   {
    "duration": 259,
    "start_time": "2024-07-15T20:11:58.333Z"
   },
   {
    "duration": 358,
    "start_time": "2024-07-15T20:13:06.696Z"
   },
   {
    "duration": 6059,
    "start_time": "2024-07-16T13:20:26.496Z"
   },
   {
    "duration": 79,
    "start_time": "2024-07-16T13:20:32.561Z"
   },
   {
    "duration": 28,
    "start_time": "2024-07-16T13:20:32.645Z"
   },
   {
    "duration": 19,
    "start_time": "2024-07-16T13:20:32.677Z"
   },
   {
    "duration": 36,
    "start_time": "2024-07-16T13:20:32.702Z"
   },
   {
    "duration": 26,
    "start_time": "2024-07-16T13:20:32.742Z"
   },
   {
    "duration": 11,
    "start_time": "2024-07-16T13:20:32.772Z"
   },
   {
    "duration": 54,
    "start_time": "2024-07-16T13:20:32.787Z"
   },
   {
    "duration": 16,
    "start_time": "2024-07-16T13:20:32.845Z"
   },
   {
    "duration": 7,
    "start_time": "2024-07-16T13:20:32.865Z"
   },
   {
    "duration": 27,
    "start_time": "2024-07-16T13:20:32.876Z"
   },
   {
    "duration": 24,
    "start_time": "2024-07-16T13:20:32.933Z"
   },
   {
    "duration": 9,
    "start_time": "2024-07-16T13:20:32.961Z"
   },
   {
    "duration": 13,
    "start_time": "2024-07-16T13:20:32.979Z"
   },
   {
    "duration": 29,
    "start_time": "2024-07-16T13:20:33.031Z"
   },
   {
    "duration": 7,
    "start_time": "2024-07-16T13:20:33.067Z"
   },
   {
    "duration": 13,
    "start_time": "2024-07-16T13:20:33.078Z"
   },
   {
    "duration": 38,
    "start_time": "2024-07-16T13:20:33.094Z"
   },
   {
    "duration": 6,
    "start_time": "2024-07-16T13:20:33.135Z"
   },
   {
    "duration": 7,
    "start_time": "2024-07-16T13:20:33.145Z"
   },
   {
    "duration": 6,
    "start_time": "2024-07-16T13:20:33.155Z"
   },
   {
    "duration": 13,
    "start_time": "2024-07-16T13:20:33.164Z"
   },
   {
    "duration": 57,
    "start_time": "2024-07-16T13:20:33.180Z"
   },
   {
    "duration": 16,
    "start_time": "2024-07-16T13:20:33.240Z"
   },
   {
    "duration": 7,
    "start_time": "2024-07-16T13:20:33.259Z"
   },
   {
    "duration": 36,
    "start_time": "2024-07-16T13:20:33.269Z"
   },
   {
    "duration": 48,
    "start_time": "2024-07-16T13:20:33.333Z"
   },
   {
    "duration": 13,
    "start_time": "2024-07-16T13:20:33.387Z"
   },
   {
    "duration": 45,
    "start_time": "2024-07-16T13:20:33.405Z"
   },
   {
    "duration": 17,
    "start_time": "2024-07-16T13:20:33.453Z"
   },
   {
    "duration": 64,
    "start_time": "2024-07-16T13:20:33.473Z"
   },
   {
    "duration": 31,
    "start_time": "2024-07-16T13:20:33.541Z"
   },
   {
    "duration": 55,
    "start_time": "2024-07-16T13:20:33.576Z"
   },
   {
    "duration": 19,
    "start_time": "2024-07-16T13:20:33.635Z"
   },
   {
    "duration": 83,
    "start_time": "2024-07-16T13:20:33.658Z"
   },
   {
    "duration": 1205,
    "start_time": "2024-07-16T13:20:33.744Z"
   },
   {
    "duration": 13,
    "start_time": "2024-07-16T13:20:34.952Z"
   },
   {
    "duration": 18,
    "start_time": "2024-07-16T13:20:34.969Z"
   },
   {
    "duration": 53,
    "start_time": "2024-07-16T13:20:34.990Z"
   },
   {
    "duration": 613,
    "start_time": "2024-07-16T13:20:35.046Z"
   },
   {
    "duration": 23,
    "start_time": "2024-07-16T13:20:35.671Z"
   },
   {
    "duration": 718,
    "start_time": "2024-07-16T13:20:35.697Z"
   },
   {
    "duration": 252,
    "start_time": "2024-07-16T13:20:36.418Z"
   },
   {
    "duration": 8,
    "start_time": "2024-07-16T13:20:36.674Z"
   },
   {
    "duration": 63,
    "start_time": "2024-07-16T13:20:36.685Z"
   },
   {
    "duration": 39,
    "start_time": "2024-07-16T13:20:36.752Z"
   },
   {
    "duration": 2260,
    "start_time": "2024-07-16T13:20:36.795Z"
   },
   {
    "duration": 18,
    "start_time": "2024-07-16T13:20:39.057Z"
   },
   {
    "duration": 272,
    "start_time": "2024-07-16T13:20:39.078Z"
   },
   {
    "duration": 36,
    "start_time": "2024-07-16T13:20:39.354Z"
   },
   {
    "duration": 306,
    "start_time": "2024-07-16T13:20:39.393Z"
   },
   {
    "duration": 47,
    "start_time": "2024-07-16T13:20:39.702Z"
   },
   {
    "duration": 413,
    "start_time": "2024-07-16T13:20:39.752Z"
   },
   {
    "duration": 43,
    "start_time": "2024-07-16T13:20:40.176Z"
   },
   {
    "duration": 362,
    "start_time": "2024-07-16T13:20:40.230Z"
   },
   {
    "duration": 18,
    "start_time": "2024-07-16T13:26:38.830Z"
   },
   {
    "duration": 7,
    "start_time": "2024-07-16T13:29:26.866Z"
   },
   {
    "duration": 11,
    "start_time": "2024-07-16T13:37:01.910Z"
   },
   {
    "duration": 16,
    "start_time": "2024-07-16T13:40:46.346Z"
   },
   {
    "duration": 14,
    "start_time": "2024-07-16T13:42:06.601Z"
   },
   {
    "duration": 8,
    "start_time": "2024-07-16T13:45:27.172Z"
   },
   {
    "duration": 451,
    "start_time": "2024-07-16T13:45:53.104Z"
   },
   {
    "duration": 7,
    "start_time": "2024-07-16T13:46:07.428Z"
   },
   {
    "duration": 17,
    "start_time": "2024-07-16T13:48:26.594Z"
   },
   {
    "duration": 26,
    "start_time": "2024-07-16T13:58:04.505Z"
   },
   {
    "duration": 27,
    "start_time": "2024-07-16T13:58:16.123Z"
   },
   {
    "duration": 7,
    "start_time": "2024-07-16T13:58:35.606Z"
   },
   {
    "duration": 15,
    "start_time": "2024-07-16T14:05:15.402Z"
   },
   {
    "duration": 7,
    "start_time": "2024-07-16T14:26:14.061Z"
   },
   {
    "duration": 38,
    "start_time": "2024-07-16T14:33:32.575Z"
   },
   {
    "duration": 138,
    "start_time": "2024-07-16T14:33:37.356Z"
   },
   {
    "duration": 6,
    "start_time": "2024-07-16T14:33:49.958Z"
   },
   {
    "duration": 7,
    "start_time": "2024-07-16T14:35:03.840Z"
   },
   {
    "duration": 8,
    "start_time": "2024-07-16T14:38:50.466Z"
   },
   {
    "duration": 17,
    "start_time": "2024-07-16T14:46:27.434Z"
   },
   {
    "duration": 219,
    "start_time": "2024-07-16T19:16:20.555Z"
   },
   {
    "duration": 25,
    "start_time": "2024-07-16T19:17:45.809Z"
   },
   {
    "duration": 441,
    "start_time": "2024-07-16T19:18:12.917Z"
   },
   {
    "duration": 408,
    "start_time": "2024-07-16T19:18:36.693Z"
   },
   {
    "duration": 548,
    "start_time": "2024-07-16T19:20:09.874Z"
   },
   {
    "duration": 64,
    "start_time": "2024-07-16T19:22:18.485Z"
   },
   {
    "duration": 18,
    "start_time": "2024-07-16T20:04:53.077Z"
   },
   {
    "duration": 7,
    "start_time": "2024-07-16T20:05:04.130Z"
   },
   {
    "duration": 42,
    "start_time": "2024-07-16T20:05:21.249Z"
   },
   {
    "duration": 574,
    "start_time": "2024-07-16T20:05:39.041Z"
   },
   {
    "duration": 8,
    "start_time": "2024-07-16T20:05:55.063Z"
   },
   {
    "duration": 8,
    "start_time": "2024-07-16T20:06:36.289Z"
   },
   {
    "duration": 13,
    "start_time": "2024-07-16T20:06:45.924Z"
   },
   {
    "duration": 8,
    "start_time": "2024-07-16T20:07:43.417Z"
   },
   {
    "duration": 27,
    "start_time": "2024-07-16T20:10:08.917Z"
   },
   {
    "duration": 903,
    "start_time": "2024-07-16T20:11:08.293Z"
   },
   {
    "duration": 12,
    "start_time": "2024-07-16T20:11:16.676Z"
   },
   {
    "duration": 12,
    "start_time": "2024-07-16T20:12:09.373Z"
   },
   {
    "duration": 32,
    "start_time": "2024-07-16T20:12:28.163Z"
   },
   {
    "duration": 22,
    "start_time": "2024-07-16T20:12:39.261Z"
   },
   {
    "duration": 15,
    "start_time": "2024-07-16T20:13:59.224Z"
   },
   {
    "duration": 15,
    "start_time": "2024-07-16T20:15:12.202Z"
   },
   {
    "duration": 14,
    "start_time": "2024-07-16T20:17:11.873Z"
   },
   {
    "duration": 15,
    "start_time": "2024-07-16T20:17:51.498Z"
   },
   {
    "duration": 10,
    "start_time": "2024-07-16T20:19:45.662Z"
   },
   {
    "duration": 22,
    "start_time": "2024-07-16T20:19:58.249Z"
   },
   {
    "duration": 16,
    "start_time": "2024-07-16T20:20:47.352Z"
   },
   {
    "duration": 24,
    "start_time": "2024-07-16T20:29:36.487Z"
   },
   {
    "duration": 21,
    "start_time": "2024-07-16T20:30:02.949Z"
   },
   {
    "duration": 7,
    "start_time": "2024-07-16T20:30:09.128Z"
   },
   {
    "duration": 8,
    "start_time": "2024-07-16T20:30:19.129Z"
   },
   {
    "duration": 19,
    "start_time": "2024-07-16T20:32:28.101Z"
   },
   {
    "duration": 21,
    "start_time": "2024-07-16T20:34:26.700Z"
   },
   {
    "duration": 21,
    "start_time": "2024-07-16T20:35:57.684Z"
   },
   {
    "duration": 16,
    "start_time": "2024-07-16T20:37:55.079Z"
   },
   {
    "duration": 10,
    "start_time": "2024-07-16T20:38:10.400Z"
   },
   {
    "duration": 11,
    "start_time": "2024-07-16T20:38:15.958Z"
   },
   {
    "duration": 307,
    "start_time": "2024-07-16T20:39:27.238Z"
   },
   {
    "duration": 23,
    "start_time": "2024-07-16T20:40:01.715Z"
   },
   {
    "duration": 22,
    "start_time": "2024-07-16T20:40:23.636Z"
   },
   {
    "duration": 11,
    "start_time": "2024-07-16T20:41:42.755Z"
   },
   {
    "duration": 14,
    "start_time": "2024-07-16T20:42:08.688Z"
   },
   {
    "duration": 15,
    "start_time": "2024-07-16T20:43:34.630Z"
   },
   {
    "duration": 14,
    "start_time": "2024-07-16T20:45:59.147Z"
   },
   {
    "duration": 219,
    "start_time": "2024-07-16T20:50:38.784Z"
   },
   {
    "duration": 5,
    "start_time": "2024-07-16T20:51:01.894Z"
   },
   {
    "duration": 8,
    "start_time": "2024-07-16T20:51:15.319Z"
   },
   {
    "duration": 18,
    "start_time": "2024-07-16T21:08:58.251Z"
   },
   {
    "duration": 7,
    "start_time": "2024-07-16T21:09:39.932Z"
   },
   {
    "duration": 8,
    "start_time": "2024-07-16T21:09:51.586Z"
   },
   {
    "duration": 16,
    "start_time": "2024-07-16T21:14:02.335Z"
   },
   {
    "duration": 546,
    "start_time": "2024-07-16T21:14:06.124Z"
   },
   {
    "duration": 10,
    "start_time": "2024-07-16T21:25:59.962Z"
   },
   {
    "duration": 10,
    "start_time": "2024-07-16T21:26:36.271Z"
   },
   {
    "duration": 36,
    "start_time": "2024-07-16T21:28:52.788Z"
   },
   {
    "duration": 39,
    "start_time": "2024-07-16T21:29:01.934Z"
   },
   {
    "duration": 2275,
    "start_time": "2024-07-16T21:29:05.141Z"
   },
   {
    "duration": 42,
    "start_time": "2024-07-16T21:43:17.598Z"
   },
   {
    "duration": 35,
    "start_time": "2024-07-16T21:43:57.708Z"
   },
   {
    "duration": 6,
    "start_time": "2024-07-16T21:45:10.616Z"
   },
   {
    "duration": 6,
    "start_time": "2024-07-16T21:45:17.891Z"
   },
   {
    "duration": 267,
    "start_time": "2024-07-16T21:45:44.885Z"
   },
   {
    "duration": 440,
    "start_time": "2024-07-16T21:46:16.759Z"
   },
   {
    "duration": 42,
    "start_time": "2024-07-16T21:48:42.702Z"
   },
   {
    "duration": 379,
    "start_time": "2024-07-16T21:51:13.747Z"
   },
   {
    "duration": 8,
    "start_time": "2024-07-16T22:00:58.468Z"
   },
   {
    "duration": 11,
    "start_time": "2024-07-16T22:08:07.467Z"
   },
   {
    "duration": 19,
    "start_time": "2024-07-16T22:08:59.234Z"
   },
   {
    "duration": 403,
    "start_time": "2024-07-16T22:22:40.394Z"
   },
   {
    "duration": 476,
    "start_time": "2024-07-16T22:25:31.135Z"
   },
   {
    "duration": 34,
    "start_time": "2024-07-16T23:02:15.519Z"
   },
   {
    "duration": 593,
    "start_time": "2024-07-16T23:05:46.596Z"
   },
   {
    "duration": 37,
    "start_time": "2024-07-16T23:11:32.901Z"
   },
   {
    "duration": 33,
    "start_time": "2024-07-16T23:12:11.808Z"
   },
   {
    "duration": 664,
    "start_time": "2024-07-16T23:15:31.382Z"
   },
   {
    "duration": 658,
    "start_time": "2024-07-16T23:15:52.504Z"
   },
   {
    "duration": 620,
    "start_time": "2024-07-16T23:20:26.435Z"
   },
   {
    "duration": 87,
    "start_time": "2024-07-16T23:22:06.681Z"
   },
   {
    "duration": 249,
    "start_time": "2024-07-16T23:22:59.042Z"
   },
   {
    "duration": 78,
    "start_time": "2024-07-16T23:23:21.338Z"
   },
   {
    "duration": 618,
    "start_time": "2024-07-16T23:23:27.439Z"
   },
   {
    "duration": 625,
    "start_time": "2024-07-16T23:23:38.076Z"
   },
   {
    "duration": 549,
    "start_time": "2024-07-16T23:24:30.503Z"
   },
   {
    "duration": 37,
    "start_time": "2024-07-16T23:25:32.813Z"
   },
   {
    "duration": 654,
    "start_time": "2024-07-16T23:26:17.293Z"
   },
   {
    "duration": 279,
    "start_time": "2024-07-16T23:26:41.100Z"
   },
   {
    "duration": 284,
    "start_time": "2024-07-16T23:27:05.081Z"
   },
   {
    "duration": 5094,
    "start_time": "2024-07-17T13:14:53.302Z"
   },
   {
    "duration": 68,
    "start_time": "2024-07-17T13:14:58.400Z"
   },
   {
    "duration": 26,
    "start_time": "2024-07-17T13:14:58.471Z"
   },
   {
    "duration": 23,
    "start_time": "2024-07-17T13:14:58.499Z"
   },
   {
    "duration": 11,
    "start_time": "2024-07-17T13:14:58.528Z"
   },
   {
    "duration": 23,
    "start_time": "2024-07-17T13:14:58.543Z"
   },
   {
    "duration": 45,
    "start_time": "2024-07-17T13:14:58.569Z"
   },
   {
    "duration": 24,
    "start_time": "2024-07-17T13:14:58.617Z"
   },
   {
    "duration": 13,
    "start_time": "2024-07-17T13:14:58.644Z"
   },
   {
    "duration": 7,
    "start_time": "2024-07-17T13:14:58.660Z"
   },
   {
    "duration": 63,
    "start_time": "2024-07-17T13:14:58.672Z"
   },
   {
    "duration": 21,
    "start_time": "2024-07-17T13:14:58.738Z"
   },
   {
    "duration": 8,
    "start_time": "2024-07-17T13:14:58.761Z"
   },
   {
    "duration": 10,
    "start_time": "2024-07-17T13:14:58.819Z"
   },
   {
    "duration": 33,
    "start_time": "2024-07-17T13:14:58.833Z"
   },
   {
    "duration": 43,
    "start_time": "2024-07-17T13:14:58.869Z"
   },
   {
    "duration": 10,
    "start_time": "2024-07-17T13:14:58.915Z"
   },
   {
    "duration": 6,
    "start_time": "2024-07-17T13:14:58.929Z"
   },
   {
    "duration": 6,
    "start_time": "2024-07-17T13:14:58.938Z"
   },
   {
    "duration": 6,
    "start_time": "2024-07-17T13:14:58.948Z"
   },
   {
    "duration": 54,
    "start_time": "2024-07-17T13:14:58.958Z"
   },
   {
    "duration": 13,
    "start_time": "2024-07-17T13:14:59.015Z"
   },
   {
    "duration": 12,
    "start_time": "2024-07-17T13:14:59.031Z"
   },
   {
    "duration": 6,
    "start_time": "2024-07-17T13:14:59.045Z"
   },
   {
    "duration": 6,
    "start_time": "2024-07-17T13:14:59.054Z"
   },
   {
    "duration": 61,
    "start_time": "2024-07-17T13:14:59.063Z"
   },
   {
    "duration": 20,
    "start_time": "2024-07-17T13:14:59.127Z"
   },
   {
    "duration": 7,
    "start_time": "2024-07-17T13:14:59.150Z"
   },
   {
    "duration": 62,
    "start_time": "2024-07-17T13:14:59.160Z"
   },
   {
    "duration": 18,
    "start_time": "2024-07-17T13:14:59.225Z"
   },
   {
    "duration": 17,
    "start_time": "2024-07-17T13:14:59.251Z"
   },
   {
    "duration": 44,
    "start_time": "2024-07-17T13:14:59.272Z"
   },
   {
    "duration": 468,
    "start_time": "2024-07-17T13:14:59.320Z"
   },
   {
    "duration": 34,
    "start_time": "2024-07-17T13:14:59.792Z"
   },
   {
    "duration": 19,
    "start_time": "2024-07-17T13:14:59.829Z"
   },
   {
    "duration": 9,
    "start_time": "2024-07-17T13:14:59.852Z"
   },
   {
    "duration": 93,
    "start_time": "2024-07-17T13:14:59.864Z"
   },
   {
    "duration": 644,
    "start_time": "2024-07-17T13:14:59.962Z"
   },
   {
    "duration": 493,
    "start_time": "2024-07-17T13:15:00.613Z"
   },
   {
    "duration": 0,
    "start_time": "2024-07-17T13:15:01.115Z"
   },
   {
    "duration": 0,
    "start_time": "2024-07-17T13:15:01.117Z"
   },
   {
    "duration": 0,
    "start_time": "2024-07-17T13:15:01.119Z"
   },
   {
    "duration": 1,
    "start_time": "2024-07-17T13:15:01.121Z"
   },
   {
    "duration": 0,
    "start_time": "2024-07-17T13:15:01.124Z"
   },
   {
    "duration": 0,
    "start_time": "2024-07-17T13:15:01.126Z"
   },
   {
    "duration": 0,
    "start_time": "2024-07-17T13:15:01.129Z"
   },
   {
    "duration": 0,
    "start_time": "2024-07-17T13:15:01.131Z"
   },
   {
    "duration": 0,
    "start_time": "2024-07-17T13:15:01.133Z"
   },
   {
    "duration": 0,
    "start_time": "2024-07-17T13:15:01.135Z"
   },
   {
    "duration": 0,
    "start_time": "2024-07-17T13:15:01.137Z"
   },
   {
    "duration": 0,
    "start_time": "2024-07-17T13:15:01.139Z"
   },
   {
    "duration": 0,
    "start_time": "2024-07-17T13:15:01.140Z"
   },
   {
    "duration": 0,
    "start_time": "2024-07-17T13:15:01.142Z"
   },
   {
    "duration": 0,
    "start_time": "2024-07-17T13:15:01.144Z"
   },
   {
    "duration": 0,
    "start_time": "2024-07-17T13:15:01.146Z"
   },
   {
    "duration": 0,
    "start_time": "2024-07-17T13:15:01.148Z"
   },
   {
    "duration": 0,
    "start_time": "2024-07-17T13:15:01.150Z"
   },
   {
    "duration": 0,
    "start_time": "2024-07-17T13:15:01.152Z"
   },
   {
    "duration": 0,
    "start_time": "2024-07-17T13:15:01.154Z"
   },
   {
    "duration": 0,
    "start_time": "2024-07-17T13:15:01.157Z"
   },
   {
    "duration": 0,
    "start_time": "2024-07-17T13:15:01.213Z"
   },
   {
    "duration": 0,
    "start_time": "2024-07-17T13:15:01.215Z"
   },
   {
    "duration": 0,
    "start_time": "2024-07-17T13:15:01.217Z"
   },
   {
    "duration": 35,
    "start_time": "2024-07-17T13:15:22.398Z"
   },
   {
    "duration": 15,
    "start_time": "2024-07-17T13:16:15.747Z"
   },
   {
    "duration": 25,
    "start_time": "2024-07-17T13:16:49.488Z"
   },
   {
    "duration": 590,
    "start_time": "2024-07-17T13:18:22.526Z"
   },
   {
    "duration": 15,
    "start_time": "2024-07-17T13:18:26.549Z"
   },
   {
    "duration": 576,
    "start_time": "2024-07-17T13:18:29.830Z"
   },
   {
    "duration": 230,
    "start_time": "2024-07-17T13:20:19.345Z"
   },
   {
    "duration": 9,
    "start_time": "2024-07-17T13:20:22.859Z"
   },
   {
    "duration": 42,
    "start_time": "2024-07-17T13:21:17.891Z"
   },
   {
    "duration": 40,
    "start_time": "2024-07-17T13:21:21.194Z"
   },
   {
    "duration": 3034,
    "start_time": "2024-07-17T13:21:27.120Z"
   },
   {
    "duration": 16,
    "start_time": "2024-07-17T13:22:08.986Z"
   },
   {
    "duration": 266,
    "start_time": "2024-07-17T13:22:14.215Z"
   },
   {
    "duration": 42,
    "start_time": "2024-07-17T13:22:33.638Z"
   },
   {
    "duration": 25,
    "start_time": "2024-07-17T13:22:36.740Z"
   },
   {
    "duration": 489,
    "start_time": "2024-07-17T13:22:40.173Z"
   },
   {
    "duration": 34,
    "start_time": "2024-07-17T13:22:44.264Z"
   },
   {
    "duration": 479,
    "start_time": "2024-07-17T13:22:46.965Z"
   },
   {
    "duration": 47,
    "start_time": "2024-07-17T13:22:50.853Z"
   },
   {
    "duration": 303,
    "start_time": "2024-07-17T13:22:53.484Z"
   },
   {
    "duration": 18,
    "start_time": "2024-07-17T13:23:36.131Z"
   },
   {
    "duration": 6,
    "start_time": "2024-07-17T13:23:38.795Z"
   },
   {
    "duration": 9,
    "start_time": "2024-07-17T13:23:41.182Z"
   },
   {
    "duration": 17,
    "start_time": "2024-07-17T13:23:44.750Z"
   },
   {
    "duration": 6,
    "start_time": "2024-07-17T13:23:47.066Z"
   },
   {
    "duration": 10,
    "start_time": "2024-07-17T13:23:50.099Z"
   },
   {
    "duration": 17,
    "start_time": "2024-07-17T13:28:02.730Z"
   },
   {
    "duration": 55,
    "start_time": "2024-07-17T13:30:47.451Z"
   },
   {
    "duration": 8,
    "start_time": "2024-07-17T13:41:19.534Z"
   },
   {
    "duration": 284,
    "start_time": "2024-07-17T13:43:03.199Z"
   },
   {
    "duration": 434,
    "start_time": "2024-07-17T13:43:10.750Z"
   },
   {
    "duration": 133,
    "start_time": "2024-07-17T13:47:46.891Z"
   },
   {
    "duration": 35,
    "start_time": "2024-07-17T13:48:22.502Z"
   },
   {
    "duration": 25,
    "start_time": "2024-07-17T13:48:29.066Z"
   },
   {
    "duration": 13,
    "start_time": "2024-07-17T13:49:03.260Z"
   },
   {
    "duration": 106,
    "start_time": "2024-07-17T13:58:38.549Z"
   },
   {
    "duration": 55,
    "start_time": "2024-07-17T13:59:16.921Z"
   },
   {
    "duration": 2500,
    "start_time": "2024-07-17T13:59:49.251Z"
   },
   {
    "duration": 17,
    "start_time": "2024-07-17T14:27:11.235Z"
   },
   {
    "duration": 18,
    "start_time": "2024-07-17T14:27:42.336Z"
   },
   {
    "duration": 20,
    "start_time": "2024-07-17T14:27:53.674Z"
   },
   {
    "duration": 1464,
    "start_time": "2024-07-17T14:34:00.920Z"
   },
   {
    "duration": 382,
    "start_time": "2024-07-17T14:34:38.094Z"
   },
   {
    "duration": 376,
    "start_time": "2024-07-17T14:43:22.026Z"
   },
   {
    "duration": 406,
    "start_time": "2024-07-17T14:43:57.529Z"
   },
   {
    "duration": 5186,
    "start_time": "2024-07-18T20:04:43.345Z"
   },
   {
    "duration": 63,
    "start_time": "2024-07-18T20:04:48.536Z"
   },
   {
    "duration": 20,
    "start_time": "2024-07-18T20:04:50.468Z"
   },
   {
    "duration": 15,
    "start_time": "2024-07-18T20:04:52.711Z"
   },
   {
    "duration": 11,
    "start_time": "2024-07-18T20:04:55.777Z"
   },
   {
    "duration": 25,
    "start_time": "2024-07-18T20:04:58.122Z"
   },
   {
    "duration": 10,
    "start_time": "2024-07-18T20:05:00.394Z"
   },
   {
    "duration": 22,
    "start_time": "2024-07-18T20:05:03.232Z"
   },
   {
    "duration": 11,
    "start_time": "2024-07-18T20:05:06.570Z"
   },
   {
    "duration": 6,
    "start_time": "2024-07-18T20:05:08.505Z"
   },
   {
    "duration": 19,
    "start_time": "2024-07-18T20:05:10.270Z"
   },
   {
    "duration": 18,
    "start_time": "2024-07-18T20:05:12.579Z"
   },
   {
    "duration": 8,
    "start_time": "2024-07-18T20:05:15.328Z"
   },
   {
    "duration": 10,
    "start_time": "2024-07-18T20:05:19.237Z"
   },
   {
    "duration": 24,
    "start_time": "2024-07-18T20:05:22.334Z"
   },
   {
    "duration": 5,
    "start_time": "2024-07-18T20:05:26.839Z"
   },
   {
    "duration": 9,
    "start_time": "2024-07-18T20:05:29.368Z"
   },
   {
    "duration": 7,
    "start_time": "2024-07-18T20:05:32.460Z"
   },
   {
    "duration": 5,
    "start_time": "2024-07-18T20:05:34.696Z"
   },
   {
    "duration": 6,
    "start_time": "2024-07-18T20:05:36.881Z"
   },
   {
    "duration": 6,
    "start_time": "2024-07-18T20:05:39.501Z"
   },
   {
    "duration": 13,
    "start_time": "2024-07-18T20:05:41.927Z"
   },
   {
    "duration": 10,
    "start_time": "2024-07-18T20:05:45.509Z"
   },
   {
    "duration": 6,
    "start_time": "2024-07-18T20:05:50.638Z"
   },
   {
    "duration": 5,
    "start_time": "2024-07-18T20:05:52.482Z"
   },
   {
    "duration": 12,
    "start_time": "2024-07-18T20:05:53.118Z"
   },
   {
    "duration": 20,
    "start_time": "2024-07-18T20:05:56.707Z"
   },
   {
    "duration": 8,
    "start_time": "2024-07-18T20:05:57.957Z"
   },
   {
    "duration": 26,
    "start_time": "2024-07-18T20:05:58.806Z"
   },
   {
    "duration": 15,
    "start_time": "2024-07-18T20:06:03.521Z"
   },
   {
    "duration": 28,
    "start_time": "2024-07-18T20:06:25.526Z"
   },
   {
    "duration": 16,
    "start_time": "2024-07-18T20:06:30.484Z"
   },
   {
    "duration": 17,
    "start_time": "2024-07-18T20:06:37.737Z"
   },
   {
    "duration": 18,
    "start_time": "2024-07-18T20:07:18.383Z"
   },
   {
    "duration": 20,
    "start_time": "2024-07-18T20:07:26.512Z"
   },
   {
    "duration": 7,
    "start_time": "2024-07-18T20:07:30.838Z"
   },
   {
    "duration": 30,
    "start_time": "2024-07-18T20:07:42.189Z"
   },
   {
    "duration": 1080,
    "start_time": "2024-07-18T20:07:48.499Z"
   },
   {
    "duration": 439,
    "start_time": "2024-07-18T20:09:13.249Z"
   },
   {
    "duration": 341,
    "start_time": "2024-07-18T20:09:34.185Z"
   },
   {
    "duration": 353,
    "start_time": "2024-07-18T20:10:33.821Z"
   },
   {
    "duration": 13,
    "start_time": "2024-07-18T20:15:28.672Z"
   },
   {
    "duration": 24,
    "start_time": "2024-07-18T20:15:41.303Z"
   },
   {
    "duration": 307,
    "start_time": "2024-07-18T20:15:45.687Z"
   },
   {
    "duration": 18,
    "start_time": "2024-07-18T20:21:54.405Z"
   },
   {
    "duration": 389,
    "start_time": "2024-07-18T20:23:17.680Z"
   },
   {
    "duration": 16,
    "start_time": "2024-07-18T20:23:37.029Z"
   },
   {
    "duration": 522,
    "start_time": "2024-07-18T20:23:40.347Z"
   },
   {
    "duration": 301,
    "start_time": "2024-07-18T20:26:42.922Z"
   },
   {
    "duration": 253,
    "start_time": "2024-07-18T20:28:07.182Z"
   },
   {
    "duration": 14,
    "start_time": "2024-07-18T20:28:23.706Z"
   },
   {
    "duration": 9,
    "start_time": "2024-07-18T20:29:13.305Z"
   },
   {
    "duration": 28,
    "start_time": "2024-07-18T20:30:54.572Z"
   },
   {
    "duration": 31,
    "start_time": "2024-07-18T20:31:50.740Z"
   },
   {
    "duration": 723,
    "start_time": "2024-07-18T20:32:02.538Z"
   },
   {
    "duration": 16,
    "start_time": "2024-07-18T20:33:28.576Z"
   },
   {
    "duration": 269,
    "start_time": "2024-07-18T20:33:33.244Z"
   },
   {
    "duration": 34,
    "start_time": "2024-07-18T20:33:38.956Z"
   },
   {
    "duration": 22,
    "start_time": "2024-07-18T20:33:43.737Z"
   },
   {
    "duration": 34,
    "start_time": "2024-07-18T20:34:54.885Z"
   },
   {
    "duration": 498,
    "start_time": "2024-07-18T20:34:58.269Z"
   },
   {
    "duration": 36,
    "start_time": "2024-07-18T20:35:33.535Z"
   },
   {
    "duration": 245,
    "start_time": "2024-07-18T20:35:37.228Z"
   },
   {
    "duration": 13,
    "start_time": "2024-07-18T20:37:07.443Z"
   },
   {
    "duration": 5,
    "start_time": "2024-07-18T20:37:12.907Z"
   },
   {
    "duration": 7,
    "start_time": "2024-07-18T20:37:16.690Z"
   },
   {
    "duration": 12,
    "start_time": "2024-07-18T20:37:27.093Z"
   },
   {
    "duration": 7,
    "start_time": "2024-07-18T20:37:29.624Z"
   },
   {
    "duration": 7,
    "start_time": "2024-07-18T20:37:32.584Z"
   },
   {
    "duration": 13,
    "start_time": "2024-07-18T20:40:25.098Z"
   },
   {
    "duration": 9,
    "start_time": "2024-07-18T20:40:28.218Z"
   }
  ],
  "kernelspec": {
   "display_name": "Python 3 (ipykernel)",
   "language": "python",
   "name": "python3"
  },
  "language_info": {
   "codemirror_mode": {
    "name": "ipython",
    "version": 3
   },
   "file_extension": ".py",
   "mimetype": "text/x-python",
   "name": "python",
   "nbconvert_exporter": "python",
   "pygments_lexer": "ipython3",
   "version": "3.9.19"
  },
  "toc": {
   "base_numbering": 1,
   "nav_menu": {},
   "number_sections": true,
   "sideBar": true,
   "skip_h1_title": true,
   "title_cell": "Table of Contents",
   "title_sidebar": "Contents",
   "toc_cell": false,
   "toc_position": {
    "height": "calc(100% - 180px)",
    "left": "10px",
    "top": "150px",
    "width": "401.528px"
   },
   "toc_section_display": true,
   "toc_window_display": true
  }
 },
 "nbformat": 4,
 "nbformat_minor": 2
}
